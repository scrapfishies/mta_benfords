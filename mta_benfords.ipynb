{
 "cells": [
  {
   "cell_type": "markdown",
   "metadata": {},
   "source": [
    "# MTA Turnstile Data Analysis: Benford's Law\n",
    "\n",
    "Does MTA Turnstile Data follow [Benford's Law](https://en.wikipedia.org/wiki/Benford%27s_law)?\n",
    "\n",
    "I recently learned about Benford's Law through the [Netflix Series *Connected* with Latif Nasser](https://www.netflix.com/title/81031737#:~:text=Digits&text=Latif%20explores%20a%20law%20of,and%20perhaps%20the%20entire%20universe.). Episode 4: 'Digits' explores how Benford's Law applies to music, social media, tax fraud, and more. It's a fun show and I'd highly recommend checking it out if you can!\n",
    "\n",
    "Since that episode, I'd had it in the back of my mind that I wanted to explore some sort of dataset to check for *Benfordness*. Our first project at [Metis](https://www.thisismetis.com/) was to conduct some exploratory data analysis on the [MTA Turnstile dataset](http://web.mta.info/developers/turnstile.html) and give a presentation on a given prompt.\n",
    "\n",
    "With the presentation behind me, I decided to dig a little more into the data and see how well the MTA turnstile data fit Benford's Law. \n",
    "\n",
    "A quick primer on Benford's Law from Wikipedia\n",
    "\n",
    "> **Benford's law**, also called the **Newcomb–Benford law**, the **law of anomalous numbers**, or the **first-digit law**, is an observation about the frequency distribution of leading digits in many real-life sets of numerical data. The law states that in many naturally occurring collections of numbers, the leading digit is likely to be small. For example, in sets that obey the law, the number 1 appears as the leading significant digit about 30% of the time, while 9 appears as the leading significant digit less than 5% of the time. If the digits were distributed uniformly, they would each occur about 11.1% of the time. Benford's law also makes predictions about the distribution of second digits, third digits, digit combinations, and so on.\n",
    "\n",
    "You can see Benford's illustrated in the figure below. "
   ]
  },
  {
   "cell_type": "code",
   "execution_count": 1,
   "metadata": {
    "ExecuteTime": {
     "end_time": "2020-09-27T17:28:52.175725Z",
     "start_time": "2020-09-27T17:28:51.685837Z"
    }
   },
   "outputs": [],
   "source": [
    "import datetime\n",
    "import numpy as np\n",
    "import pandas as pd\n",
    "\n",
    "%matplotlib inline\n",
    "import matplotlib.pyplot as plt"
   ]
  },
  {
   "cell_type": "markdown",
   "metadata": {},
   "source": [
    "### Benford's Law"
   ]
  },
  {
   "cell_type": "markdown",
   "metadata": {},
   "source": [
    "#### Table Representation"
   ]
  },
  {
   "cell_type": "code",
   "execution_count": 2,
   "metadata": {
    "ExecuteTime": {
     "end_time": "2020-09-27T17:28:52.186709Z",
     "start_time": "2020-09-27T17:28:52.177732Z"
    }
   },
   "outputs": [
    {
     "data": {
      "text/html": [
       "<div>\n",
       "<style scoped>\n",
       "    .dataframe tbody tr th:only-of-type {\n",
       "        vertical-align: middle;\n",
       "    }\n",
       "\n",
       "    .dataframe tbody tr th {\n",
       "        vertical-align: top;\n",
       "    }\n",
       "\n",
       "    .dataframe thead th {\n",
       "        text-align: right;\n",
       "    }\n",
       "</style>\n",
       "<table border=\"1\" class=\"dataframe\">\n",
       "  <thead>\n",
       "    <tr style=\"text-align: right;\">\n",
       "      <th></th>\n",
       "      <th>digit</th>\n",
       "      <th>percent</th>\n",
       "    </tr>\n",
       "  </thead>\n",
       "  <tbody>\n",
       "    <tr>\n",
       "      <th>1</th>\n",
       "      <td>1</td>\n",
       "      <td>30.1</td>\n",
       "    </tr>\n",
       "    <tr>\n",
       "      <th>2</th>\n",
       "      <td>2</td>\n",
       "      <td>17.6</td>\n",
       "    </tr>\n",
       "    <tr>\n",
       "      <th>3</th>\n",
       "      <td>3</td>\n",
       "      <td>12.5</td>\n",
       "    </tr>\n",
       "    <tr>\n",
       "      <th>4</th>\n",
       "      <td>4</td>\n",
       "      <td>9.7</td>\n",
       "    </tr>\n",
       "    <tr>\n",
       "      <th>5</th>\n",
       "      <td>5</td>\n",
       "      <td>7.9</td>\n",
       "    </tr>\n",
       "    <tr>\n",
       "      <th>6</th>\n",
       "      <td>6</td>\n",
       "      <td>6.7</td>\n",
       "    </tr>\n",
       "    <tr>\n",
       "      <th>7</th>\n",
       "      <td>7</td>\n",
       "      <td>5.8</td>\n",
       "    </tr>\n",
       "    <tr>\n",
       "      <th>8</th>\n",
       "      <td>8</td>\n",
       "      <td>5.1</td>\n",
       "    </tr>\n",
       "    <tr>\n",
       "      <th>9</th>\n",
       "      <td>9</td>\n",
       "      <td>4.6</td>\n",
       "    </tr>\n",
       "  </tbody>\n",
       "</table>\n",
       "</div>"
      ],
      "text/plain": [
       "   digit  percent\n",
       "1      1     30.1\n",
       "2      2     17.6\n",
       "3      3     12.5\n",
       "4      4      9.7\n",
       "5      5      7.9\n",
       "6      6      6.7\n",
       "7      7      5.8\n",
       "8      8      5.1\n",
       "9      9      4.6"
      ]
     },
     "execution_count": 2,
     "metadata": {},
     "output_type": "execute_result"
    }
   ],
   "source": [
    "benfords = pd.DataFrame({'digit': list(range(1, 10)), \n",
    "                       'percent': [30.1, 17.6, 12.5, 9.7, 7.9, 6.7, 5.8, 5.1, 4.6]}, \n",
    "                       index=list(range(1, 10)))\n",
    "benfords"
   ]
  },
  {
   "cell_type": "markdown",
   "metadata": {},
   "source": [
    "#### Visual Representation"
   ]
  },
  {
   "cell_type": "code",
   "execution_count": 3,
   "metadata": {
    "ExecuteTime": {
     "end_time": "2020-09-27T17:28:52.450646Z",
     "start_time": "2020-09-27T17:28:52.188506Z"
    },
    "scrolled": true
   },
   "outputs": [
    {
     "data": {
      "image/png": "[encoded data removed]",
      "text/plain": [
       "<Figure size 720x360 with 1 Axes>"
      ]
     },
     "metadata": {
      "needs_background": "light"
     },
     "output_type": "display_data"
    }
   ],
   "source": [
    "digits = list(range(1, 10))\n",
    "benfords_percents = benfords['percent']\n",
    "\n",
    "x = np.arange(len(digits))  # the label locations\n",
    "width = 0.7  # the width of the bars\n",
    "\n",
    "fig, ax = plt.subplots(figsize=(10, 5))\n",
    "benford_bars = ax.bar(x, benfords_percents, width, color='red', alpha=0.5)\n",
    "\n",
    "# Add some text for labels, title and custom x-axis tick labels, etc.\n",
    "ax.set_ylabel('Frequency (%)', fontsize=14)\n",
    "ax.set_xlabel('Leading Digit', fontsize=14)\n",
    "ax.set_title(\"Benford's Law\", fontsize=18)\n",
    "ax.set_xticks(x)\n",
    "ax.set_ylim(0, 35)\n",
    "ax.set_xticklabels(digits)\n",
    "\n",
    "def autolabel(rects):\n",
    "    \"\"\"Attach a text label above each bar in *rects*, displaying its height.\"\"\"\n",
    "    for rect in rects:\n",
    "        height = rect.get_height()\n",
    "        ax.annotate('{}'.format(height),\n",
    "                    xy=(rect.get_x() + rect.get_width() / 2, height),\n",
    "                    xytext=(0, 3),  # 3 points vertical offset\n",
    "                    textcoords=\"offset points\",\n",
    "                    ha='center', va='bottom')\n",
    "\n",
    "autolabel(benford_bars)\n",
    "\n",
    "fig.tight_layout()\n",
    "\n",
    "#plt.savefig('benfords.png')\n",
    "plt.show();"
   ]
  },
  {
   "cell_type": "markdown",
   "metadata": {},
   "source": [
    "### Sources & references\n",
    "\n",
    "- [MTA Turnstile Data](http://web.mta.info/developers/turnstile.html)\n",
    "- [MTA Turnstile Data - Codebook](http://web.mta.info/developers/resources/nyct/turnstile/ts_Field_Description.txt)\n",
    "- [Kaggle: MTA Turnstile Data Analysis](https://www.kaggle.com/nieyuqi/mta-turnstile-data-analysis)"
   ]
  },
  {
   "cell_type": "markdown",
   "metadata": {},
   "source": [
    "## Data Import and Scrubbing"
   ]
  },
  {
   "cell_type": "markdown",
   "metadata": {},
   "source": [
    "Importing four weeks worth of data -- the last four available weeks at the time of this study."
   ]
  },
  {
   "cell_type": "code",
   "execution_count": 4,
   "metadata": {
    "ExecuteTime": {
     "end_time": "2020-09-27T17:28:52.455491Z",
     "start_time": "2020-09-27T17:28:52.452377Z"
    }
   },
   "outputs": [],
   "source": [
    "def get_data(week_nums):\n",
    "    url = \"http://web.mta.info/developers/data/nyct/turnstile/turnstile_{}.txt\"\n",
    "    dfs = []\n",
    "    for week_num in week_nums:\n",
    "        file_url = url.format(week_num)\n",
    "        dfs.append(pd.read_csv(file_url))\n",
    "    return pd.concat(dfs)"
   ]
  },
  {
   "cell_type": "code",
   "execution_count": 5,
   "metadata": {
    "ExecuteTime": {
     "end_time": "2020-09-27T17:28:56.870918Z",
     "start_time": "2020-09-27T17:28:52.457260Z"
    }
   },
   "outputs": [],
   "source": [
    "# Grab last 4 weeks of data: \n",
    "import_weeks = [200926, 200919, 200912, 200905]\n",
    "\n",
    "mta_raw = get_data(import_weeks)"
   ]
  },
  {
   "cell_type": "code",
   "execution_count": 6,
   "metadata": {
    "ExecuteTime": {
     "end_time": "2020-09-27T17:28:56.886587Z",
     "start_time": "2020-09-27T17:28:56.874283Z"
    }
   },
   "outputs": [
    {
     "data": {
      "text/html": [
       "<div>\n",
       "<style scoped>\n",
       "    .dataframe tbody tr th:only-of-type {\n",
       "        vertical-align: middle;\n",
       "    }\n",
       "\n",
       "    .dataframe tbody tr th {\n",
       "        vertical-align: top;\n",
       "    }\n",
       "\n",
       "    .dataframe thead th {\n",
       "        text-align: right;\n",
       "    }\n",
       "</style>\n",
       "<table border=\"1\" class=\"dataframe\">\n",
       "  <thead>\n",
       "    <tr style=\"text-align: right;\">\n",
       "      <th></th>\n",
       "      <th>C/A</th>\n",
       "      <th>UNIT</th>\n",
       "      <th>SCP</th>\n",
       "      <th>STATION</th>\n",
       "      <th>LINENAME</th>\n",
       "      <th>DIVISION</th>\n",
       "      <th>DATE</th>\n",
       "      <th>TIME</th>\n",
       "      <th>DESC</th>\n",
       "      <th>ENTRIES</th>\n",
       "      <th>EXITS</th>\n",
       "    </tr>\n",
       "  </thead>\n",
       "  <tbody>\n",
       "    <tr>\n",
       "      <th>0</th>\n",
       "      <td>A002</td>\n",
       "      <td>R051</td>\n",
       "      <td>02-00-00</td>\n",
       "      <td>59 ST</td>\n",
       "      <td>NQR456W</td>\n",
       "      <td>BMT</td>\n",
       "      <td>09/19/2020</td>\n",
       "      <td>00:00:00</td>\n",
       "      <td>REGULAR</td>\n",
       "      <td>7460236</td>\n",
       "      <td>2537220</td>\n",
       "    </tr>\n",
       "    <tr>\n",
       "      <th>1</th>\n",
       "      <td>A002</td>\n",
       "      <td>R051</td>\n",
       "      <td>02-00-00</td>\n",
       "      <td>59 ST</td>\n",
       "      <td>NQR456W</td>\n",
       "      <td>BMT</td>\n",
       "      <td>09/19/2020</td>\n",
       "      <td>04:00:00</td>\n",
       "      <td>REGULAR</td>\n",
       "      <td>7460241</td>\n",
       "      <td>2537220</td>\n",
       "    </tr>\n",
       "    <tr>\n",
       "      <th>2</th>\n",
       "      <td>A002</td>\n",
       "      <td>R051</td>\n",
       "      <td>02-00-00</td>\n",
       "      <td>59 ST</td>\n",
       "      <td>NQR456W</td>\n",
       "      <td>BMT</td>\n",
       "      <td>09/19/2020</td>\n",
       "      <td>08:00:00</td>\n",
       "      <td>REGULAR</td>\n",
       "      <td>7460260</td>\n",
       "      <td>2537239</td>\n",
       "    </tr>\n",
       "    <tr>\n",
       "      <th>3</th>\n",
       "      <td>A002</td>\n",
       "      <td>R051</td>\n",
       "      <td>02-00-00</td>\n",
       "      <td>59 ST</td>\n",
       "      <td>NQR456W</td>\n",
       "      <td>BMT</td>\n",
       "      <td>09/19/2020</td>\n",
       "      <td>12:00:00</td>\n",
       "      <td>REGULAR</td>\n",
       "      <td>7460289</td>\n",
       "      <td>2537289</td>\n",
       "    </tr>\n",
       "    <tr>\n",
       "      <th>4</th>\n",
       "      <td>A002</td>\n",
       "      <td>R051</td>\n",
       "      <td>02-00-00</td>\n",
       "      <td>59 ST</td>\n",
       "      <td>NQR456W</td>\n",
       "      <td>BMT</td>\n",
       "      <td>09/19/2020</td>\n",
       "      <td>16:00:00</td>\n",
       "      <td>REGULAR</td>\n",
       "      <td>7460377</td>\n",
       "      <td>2537315</td>\n",
       "    </tr>\n",
       "  </tbody>\n",
       "</table>\n",
       "</div>"
      ],
      "text/plain": [
       "    C/A  UNIT       SCP STATION LINENAME DIVISION        DATE      TIME  \\\n",
       "0  A002  R051  02-00-00   59 ST  NQR456W      BMT  09/19/2020  00:00:00   \n",
       "1  A002  R051  02-00-00   59 ST  NQR456W      BMT  09/19/2020  04:00:00   \n",
       "2  A002  R051  02-00-00   59 ST  NQR456W      BMT  09/19/2020  08:00:00   \n",
       "3  A002  R051  02-00-00   59 ST  NQR456W      BMT  09/19/2020  12:00:00   \n",
       "4  A002  R051  02-00-00   59 ST  NQR456W      BMT  09/19/2020  16:00:00   \n",
       "\n",
       "      DESC  ENTRIES  \\\n",
       "0  REGULAR  7460236   \n",
       "1  REGULAR  7460241   \n",
       "2  REGULAR  7460260   \n",
       "3  REGULAR  7460289   \n",
       "4  REGULAR  7460377   \n",
       "\n",
       "   EXITS                                                                 \n",
       "0                                            2537220                     \n",
       "1                                            2537220                     \n",
       "2                                            2537239                     \n",
       "3                                            2537289                     \n",
       "4                                            2537315                     "
      ]
     },
     "execution_count": 6,
     "metadata": {},
     "output_type": "execute_result"
    }
   ],
   "source": [
    "mta_raw.head()"
   ]
  },
  {
   "cell_type": "code",
   "execution_count": 7,
   "metadata": {
    "ExecuteTime": {
     "end_time": "2020-09-27T17:28:56.891753Z",
     "start_time": "2020-09-27T17:28:56.889066Z"
    }
   },
   "outputs": [
    {
     "name": "stdout",
     "output_type": "stream",
     "text": [
      "Number of rows: 838127\n"
     ]
    }
   ],
   "source": [
    "print(\"Number of rows: {}\".format(len(mta_raw)))"
   ]
  },
  {
   "cell_type": "markdown",
   "metadata": {},
   "source": [
    "### Formatting New and Existing Columns"
   ]
  },
  {
   "cell_type": "code",
   "execution_count": 8,
   "metadata": {
    "ExecuteTime": {
     "end_time": "2020-09-27T17:28:56.896316Z",
     "start_time": "2020-09-27T17:28:56.893615Z"
    }
   },
   "outputs": [],
   "source": [
    "# Rename columns for easier coding later\n",
    "\n",
    "mta_raw.columns = ['ca',\n",
    "                   'unit',\n",
    "                  'scp',\n",
    "                  'station',\n",
    "                  'linename',\n",
    "                  'division',\n",
    "                  'date',\n",
    "                  'time',\n",
    "                  'desc',\n",
    "                  'entries_cum',\n",
    "                  'exits_cum']"
   ]
  },
  {
   "cell_type": "code",
   "execution_count": 9,
   "metadata": {
    "ExecuteTime": {
     "end_time": "2020-09-27T17:29:01.042848Z",
     "start_time": "2020-09-27T17:28:56.897837Z"
    }
   },
   "outputs": [],
   "source": [
    "# Create a timestamp column with datetime object\n",
    "# Convert date data to datetime object\n",
    "\n",
    "mta_raw['timestamp'] = pd.to_datetime(mta_raw['date'] + ' ' + mta_raw['time'])\n",
    "mta_raw['date'] = pd.to_datetime(mta_raw['date'])"
   ]
  },
  {
   "cell_type": "code",
   "execution_count": 10,
   "metadata": {
    "ExecuteTime": {
     "end_time": "2020-09-27T17:29:01.602282Z",
     "start_time": "2020-09-27T17:29:01.044505Z"
    }
   },
   "outputs": [],
   "source": [
    "# Create turnstile column as proxy for unique identifier\n",
    "mta_raw['turnstile'] = mta_raw['station'] + '-' + mta_raw['ca'] + '-' + mta_raw['unit'] + '-' + mta_raw['scp']"
   ]
  },
  {
   "cell_type": "markdown",
   "metadata": {},
   "source": [
    "### Checking for Duplicates"
   ]
  },
  {
   "cell_type": "code",
   "execution_count": 11,
   "metadata": {
    "ExecuteTime": {
     "end_time": "2020-09-27T17:29:02.010498Z",
     "start_time": "2020-09-27T17:29:01.604361Z"
    }
   },
   "outputs": [],
   "source": [
    "# Checking for duplicates\n",
    "dupes = mta_raw.groupby(['turnstile', 'timestamp'])['entries_cum'].count().reset_index().sort_values('entries_cum', ascending=False)"
   ]
  },
  {
   "cell_type": "code",
   "execution_count": 12,
   "metadata": {
    "ExecuteTime": {
     "end_time": "2020-09-27T17:29:02.026245Z",
     "start_time": "2020-09-27T17:29:02.012365Z"
    }
   },
   "outputs": [
    {
     "name": "stdout",
     "output_type": "stream",
     "text": [
      "# of Duplicate Entries: 15\n"
     ]
    },
    {
     "data": {
      "text/html": [
       "<div>\n",
       "<style scoped>\n",
       "    .dataframe tbody tr th:only-of-type {\n",
       "        vertical-align: middle;\n",
       "    }\n",
       "\n",
       "    .dataframe tbody tr th {\n",
       "        vertical-align: top;\n",
       "    }\n",
       "\n",
       "    .dataframe thead th {\n",
       "        text-align: right;\n",
       "    }\n",
       "</style>\n",
       "<table border=\"1\" class=\"dataframe\">\n",
       "  <thead>\n",
       "    <tr style=\"text-align: right;\">\n",
       "      <th></th>\n",
       "      <th>turnstile</th>\n",
       "      <th>timestamp</th>\n",
       "      <th>entries_cum</th>\n",
       "    </tr>\n",
       "  </thead>\n",
       "  <tbody>\n",
       "    <tr>\n",
       "      <th>241767</th>\n",
       "      <td>59 ST-R245A-R051-01-00-00</td>\n",
       "      <td>2020-09-12 00:00:00</td>\n",
       "      <td>2</td>\n",
       "    </tr>\n",
       "    <tr>\n",
       "      <th>87080</th>\n",
       "      <td>181 ST-N007A-R174-00-00-00</td>\n",
       "      <td>2020-09-23 13:00:00</td>\n",
       "      <td>2</td>\n",
       "    </tr>\n",
       "    <tr>\n",
       "      <th>370702</th>\n",
       "      <td>BERGEN ST-N532-R129-00-00-00</td>\n",
       "      <td>2020-08-31 17:00:00</td>\n",
       "      <td>2</td>\n",
       "    </tr>\n",
       "    <tr>\n",
       "      <th>290519</th>\n",
       "      <td>86 ST-2 AVE-N701-R571-00-00-00</td>\n",
       "      <td>2020-09-24 09:00:00</td>\n",
       "      <td>2</td>\n",
       "    </tr>\n",
       "    <tr>\n",
       "      <th>778210</th>\n",
       "      <td>SUTTER AV-RUTLD-R627-R063-00-00-00</td>\n",
       "      <td>2020-09-07 16:00:00</td>\n",
       "      <td>2</td>\n",
       "    </tr>\n",
       "    <tr>\n",
       "      <th>87248</th>\n",
       "      <td>181 ST-N007A-R174-00-00-01</td>\n",
       "      <td>2020-09-23 13:00:00</td>\n",
       "      <td>2</td>\n",
       "    </tr>\n",
       "    <tr>\n",
       "      <th>778212</th>\n",
       "      <td>SUTTER AV-RUTLD-R627-R063-00-00-00</td>\n",
       "      <td>2020-09-08 00:00:00</td>\n",
       "      <td>2</td>\n",
       "    </tr>\n",
       "    <tr>\n",
       "      <th>778380</th>\n",
       "      <td>SUTTER AV-RUTLD-R627-R063-00-00-01</td>\n",
       "      <td>2020-09-08 00:00:00</td>\n",
       "      <td>2</td>\n",
       "    </tr>\n",
       "    <tr>\n",
       "      <th>778378</th>\n",
       "      <td>SUTTER AV-RUTLD-R627-R063-00-00-01</td>\n",
       "      <td>2020-09-07 16:00:00</td>\n",
       "      <td>2</td>\n",
       "    </tr>\n",
       "    <tr>\n",
       "      <th>233753</th>\n",
       "      <td>59 ST-A002-R051-02-00-00</td>\n",
       "      <td>2020-09-12 12:00:00</td>\n",
       "      <td>2</td>\n",
       "    </tr>\n",
       "    <tr>\n",
       "      <th>684688</th>\n",
       "      <td>NEW LOTS-H039-R375-00-00-00</td>\n",
       "      <td>2020-09-22 05:00:00</td>\n",
       "      <td>2</td>\n",
       "    </tr>\n",
       "    <tr>\n",
       "      <th>684853</th>\n",
       "      <td>NEW LOTS-H039-R375-00-00-01</td>\n",
       "      <td>2020-09-22 05:00:00</td>\n",
       "      <td>2</td>\n",
       "    </tr>\n",
       "    <tr>\n",
       "      <th>241768</th>\n",
       "      <td>59 ST-R245A-R051-01-00-00</td>\n",
       "      <td>2020-09-12 04:00:00</td>\n",
       "      <td>2</td>\n",
       "    </tr>\n",
       "    <tr>\n",
       "      <th>241769</th>\n",
       "      <td>59 ST-R245A-R051-01-00-00</td>\n",
       "      <td>2020-09-12 08:00:00</td>\n",
       "      <td>2</td>\n",
       "    </tr>\n",
       "    <tr>\n",
       "      <th>370869</th>\n",
       "      <td>BERGEN ST-N532-R129-00-00-01</td>\n",
       "      <td>2020-08-31 17:00:00</td>\n",
       "      <td>2</td>\n",
       "    </tr>\n",
       "  </tbody>\n",
       "</table>\n",
       "</div>"
      ],
      "text/plain": [
       "                                 turnstile           timestamp  entries_cum\n",
       "241767           59 ST-R245A-R051-01-00-00 2020-09-12 00:00:00            2\n",
       "87080           181 ST-N007A-R174-00-00-00 2020-09-23 13:00:00            2\n",
       "370702        BERGEN ST-N532-R129-00-00-00 2020-08-31 17:00:00            2\n",
       "290519      86 ST-2 AVE-N701-R571-00-00-00 2020-09-24 09:00:00            2\n",
       "778210  SUTTER AV-RUTLD-R627-R063-00-00-00 2020-09-07 16:00:00            2\n",
       "87248           181 ST-N007A-R174-00-00-01 2020-09-23 13:00:00            2\n",
       "778212  SUTTER AV-RUTLD-R627-R063-00-00-00 2020-09-08 00:00:00            2\n",
       "778380  SUTTER AV-RUTLD-R627-R063-00-00-01 2020-09-08 00:00:00            2\n",
       "778378  SUTTER AV-RUTLD-R627-R063-00-00-01 2020-09-07 16:00:00            2\n",
       "233753            59 ST-A002-R051-02-00-00 2020-09-12 12:00:00            2\n",
       "684688         NEW LOTS-H039-R375-00-00-00 2020-09-22 05:00:00            2\n",
       "684853         NEW LOTS-H039-R375-00-00-01 2020-09-22 05:00:00            2\n",
       "241768           59 ST-R245A-R051-01-00-00 2020-09-12 04:00:00            2\n",
       "241769           59 ST-R245A-R051-01-00-00 2020-09-12 08:00:00            2\n",
       "370869        BERGEN ST-N532-R129-00-00-01 2020-08-31 17:00:00            2"
      ]
     },
     "execution_count": 12,
     "metadata": {},
     "output_type": "execute_result"
    }
   ],
   "source": [
    "dupes = dupes[dupes['entries_cum'] > 1]\n",
    "print('# of Duplicate Entries: {}'.format(len(dupes)))\n",
    "dupes"
   ]
  },
  {
   "cell_type": "markdown",
   "metadata": {},
   "source": [
    "These duplicates exist when MTA does a `RECOVR AUD` entry - there are quite a few in this dataset, but these will be dealt with when I find the delta between cumulative entries/exits for each time period. "
   ]
  },
  {
   "cell_type": "code",
   "execution_count": 13,
   "metadata": {
    "ExecuteTime": {
     "end_time": "2020-09-27T17:29:02.103269Z",
     "start_time": "2020-09-27T17:29:02.027679Z"
    }
   },
   "outputs": [
    {
     "data": {
      "text/plain": [
       "REGULAR       834643\n",
       "RECOVR AUD      3484\n",
       "Name: desc, dtype: int64"
      ]
     },
     "execution_count": 13,
     "metadata": {},
     "output_type": "execute_result"
    }
   ],
   "source": [
    "mta_raw.desc.value_counts()"
   ]
  },
  {
   "cell_type": "code",
   "execution_count": 14,
   "metadata": {
    "ExecuteTime": {
     "end_time": "2020-09-27T17:29:02.319474Z",
     "start_time": "2020-09-27T17:29:02.104928Z"
    }
   },
   "outputs": [
    {
     "data": {
      "text/html": [
       "<div>\n",
       "<style scoped>\n",
       "    .dataframe tbody tr th:only-of-type {\n",
       "        vertical-align: middle;\n",
       "    }\n",
       "\n",
       "    .dataframe tbody tr th {\n",
       "        vertical-align: top;\n",
       "    }\n",
       "\n",
       "    .dataframe thead th {\n",
       "        text-align: right;\n",
       "    }\n",
       "</style>\n",
       "<table border=\"1\" class=\"dataframe\">\n",
       "  <thead>\n",
       "    <tr style=\"text-align: right;\">\n",
       "      <th></th>\n",
       "      <th>ca</th>\n",
       "      <th>unit</th>\n",
       "      <th>scp</th>\n",
       "      <th>station</th>\n",
       "      <th>linename</th>\n",
       "      <th>division</th>\n",
       "      <th>date</th>\n",
       "      <th>time</th>\n",
       "      <th>desc</th>\n",
       "      <th>entries_cum</th>\n",
       "      <th>exits_cum</th>\n",
       "      <th>timestamp</th>\n",
       "      <th>turnstile</th>\n",
       "    </tr>\n",
       "  </thead>\n",
       "  <tbody>\n",
       "    <tr>\n",
       "      <th>166509</th>\n",
       "      <td>R245A</td>\n",
       "      <td>R051</td>\n",
       "      <td>01-00-00</td>\n",
       "      <td>59 ST</td>\n",
       "      <td>456NQRW</td>\n",
       "      <td>IRT</td>\n",
       "      <td>2020-09-12</td>\n",
       "      <td>00:00:00</td>\n",
       "      <td>REGULAR</td>\n",
       "      <td>13703909</td>\n",
       "      <td>4892239</td>\n",
       "      <td>2020-09-12</td>\n",
       "      <td>59 ST-R245A-R051-01-00-00</td>\n",
       "    </tr>\n",
       "    <tr>\n",
       "      <th>166510</th>\n",
       "      <td>R245A</td>\n",
       "      <td>R051</td>\n",
       "      <td>01-00-00</td>\n",
       "      <td>59 ST</td>\n",
       "      <td>456NQRW</td>\n",
       "      <td>IRT</td>\n",
       "      <td>2020-09-12</td>\n",
       "      <td>00:00:00</td>\n",
       "      <td>RECOVR AUD</td>\n",
       "      <td>26726</td>\n",
       "      <td>3996</td>\n",
       "      <td>2020-09-12</td>\n",
       "      <td>59 ST-R245A-R051-01-00-00</td>\n",
       "    </tr>\n",
       "  </tbody>\n",
       "</table>\n",
       "</div>"
      ],
      "text/plain": [
       "           ca  unit       scp station linename division       date      time  \\\n",
       "166509  R245A  R051  01-00-00   59 ST  456NQRW      IRT 2020-09-12  00:00:00   \n",
       "166510  R245A  R051  01-00-00   59 ST  456NQRW      IRT 2020-09-12  00:00:00   \n",
       "\n",
       "              desc  entries_cum  exits_cum  timestamp  \\\n",
       "166509     REGULAR     13703909    4892239 2020-09-12   \n",
       "166510  RECOVR AUD        26726       3996 2020-09-12   \n",
       "\n",
       "                        turnstile  \n",
       "166509  59 ST-R245A-R051-01-00-00  \n",
       "166510  59 ST-R245A-R051-01-00-00  "
      ]
     },
     "execution_count": 14,
     "metadata": {},
     "output_type": "execute_result"
    }
   ],
   "source": [
    "mta_raw[(mta_raw['turnstile']=='59 ST-R245A-R051-01-00-00') &\n",
    "       (mta_raw['timestamp']=='2020-09-12 00:00:00')]"
   ]
  },
  {
   "cell_type": "code",
   "execution_count": 15,
   "metadata": {
    "ExecuteTime": {
     "end_time": "2020-09-27T17:29:02.380266Z",
     "start_time": "2020-09-27T17:29:02.321147Z"
    }
   },
   "outputs": [
    {
     "data": {
      "text/html": [
       "<div>\n",
       "<style scoped>\n",
       "    .dataframe tbody tr th:only-of-type {\n",
       "        vertical-align: middle;\n",
       "    }\n",
       "\n",
       "    .dataframe tbody tr th {\n",
       "        vertical-align: top;\n",
       "    }\n",
       "\n",
       "    .dataframe thead th {\n",
       "        text-align: right;\n",
       "    }\n",
       "</style>\n",
       "<table border=\"1\" class=\"dataframe\">\n",
       "  <thead>\n",
       "    <tr style=\"text-align: right;\">\n",
       "      <th></th>\n",
       "      <th>ca</th>\n",
       "      <th>unit</th>\n",
       "      <th>scp</th>\n",
       "      <th>station</th>\n",
       "      <th>linename</th>\n",
       "      <th>division</th>\n",
       "      <th>date</th>\n",
       "      <th>time</th>\n",
       "      <th>desc</th>\n",
       "      <th>entries_cum</th>\n",
       "      <th>exits_cum</th>\n",
       "      <th>timestamp</th>\n",
       "      <th>turnstile</th>\n",
       "    </tr>\n",
       "  </thead>\n",
       "  <tbody>\n",
       "    <tr>\n",
       "      <th>46407</th>\n",
       "      <td>N007A</td>\n",
       "      <td>R174</td>\n",
       "      <td>00-00-00</td>\n",
       "      <td>181 ST</td>\n",
       "      <td>A</td>\n",
       "      <td>IND</td>\n",
       "      <td>2020-09-23</td>\n",
       "      <td>13:00:00</td>\n",
       "      <td>REGULAR</td>\n",
       "      <td>4</td>\n",
       "      <td>0</td>\n",
       "      <td>2020-09-23 13:00:00</td>\n",
       "      <td>181 ST-N007A-R174-00-00-00</td>\n",
       "    </tr>\n",
       "    <tr>\n",
       "      <th>46408</th>\n",
       "      <td>N007A</td>\n",
       "      <td>R174</td>\n",
       "      <td>00-00-00</td>\n",
       "      <td>181 ST</td>\n",
       "      <td>A</td>\n",
       "      <td>IND</td>\n",
       "      <td>2020-09-23</td>\n",
       "      <td>13:00:00</td>\n",
       "      <td>RECOVR AUD</td>\n",
       "      <td>10732094</td>\n",
       "      <td>11586103</td>\n",
       "      <td>2020-09-23 13:00:00</td>\n",
       "      <td>181 ST-N007A-R174-00-00-00</td>\n",
       "    </tr>\n",
       "  </tbody>\n",
       "</table>\n",
       "</div>"
      ],
      "text/plain": [
       "          ca  unit       scp station linename division       date      time  \\\n",
       "46407  N007A  R174  00-00-00  181 ST        A      IND 2020-09-23  13:00:00   \n",
       "46408  N007A  R174  00-00-00  181 ST        A      IND 2020-09-23  13:00:00   \n",
       "\n",
       "             desc  entries_cum  exits_cum           timestamp  \\\n",
       "46407     REGULAR            4          0 2020-09-23 13:00:00   \n",
       "46408  RECOVR AUD     10732094   11586103 2020-09-23 13:00:00   \n",
       "\n",
       "                        turnstile  \n",
       "46407  181 ST-N007A-R174-00-00-00  \n",
       "46408  181 ST-N007A-R174-00-00-00  "
      ]
     },
     "execution_count": 15,
     "metadata": {},
     "output_type": "execute_result"
    }
   ],
   "source": [
    "mta_raw[(mta_raw['turnstile']=='181 ST-N007A-R174-00-00-00') &\n",
    "       (mta_raw['timestamp']=='2020-09-23 13:00:00')]"
   ]
  },
  {
   "cell_type": "markdown",
   "metadata": {},
   "source": [
    "### Calculating actual entries & exits from cumulative figures"
   ]
  },
  {
   "cell_type": "markdown",
   "metadata": {},
   "source": [
    "Taking the difference between entries to get the actual number of entries/exits foer each time period. \n",
    "\n",
    "The following block of code comes from [Kaggle: MTA Turnstile Data Analysis](https://www.kaggle.com/nieyuqi/mta-turnstile-data-analysis). Since some counters actually go *backwards*, I applied the `abs()` method to the end of these `.transform(pd.Series.diff)` lines. "
   ]
  },
  {
   "cell_type": "code",
   "execution_count": 16,
   "metadata": {
    "ExecuteTime": {
     "end_time": "2020-09-27T17:29:04.687618Z",
     "start_time": "2020-09-27T17:29:02.381987Z"
    }
   },
   "outputs": [],
   "source": [
    "mta_sorted = mta_raw.sort_values(['turnstile', 'timestamp'])\n",
    "mta_sorted = mta_sorted.reset_index(drop = True)\n",
    "\n",
    "turnstile_grouped = mta_sorted.groupby(['turnstile'])\n",
    "\n",
    "mta_sorted['entries'] = turnstile_grouped['entries_cum'].transform(pd.Series.diff).abs()\n",
    "mta_sorted['exits'] = turnstile_grouped['exits_cum'].transform(pd.Series.diff).abs()"
   ]
  },
  {
   "cell_type": "code",
   "execution_count": 17,
   "metadata": {
    "ExecuteTime": {
     "end_time": "2020-09-27T17:29:04.702275Z",
     "start_time": "2020-09-27T17:29:04.689302Z"
    }
   },
   "outputs": [
    {
     "data": {
      "text/html": [
       "<div>\n",
       "<style scoped>\n",
       "    .dataframe tbody tr th:only-of-type {\n",
       "        vertical-align: middle;\n",
       "    }\n",
       "\n",
       "    .dataframe tbody tr th {\n",
       "        vertical-align: top;\n",
       "    }\n",
       "\n",
       "    .dataframe thead th {\n",
       "        text-align: right;\n",
       "    }\n",
       "</style>\n",
       "<table border=\"1\" class=\"dataframe\">\n",
       "  <thead>\n",
       "    <tr style=\"text-align: right;\">\n",
       "      <th></th>\n",
       "      <th>ca</th>\n",
       "      <th>unit</th>\n",
       "      <th>scp</th>\n",
       "      <th>station</th>\n",
       "      <th>linename</th>\n",
       "      <th>division</th>\n",
       "      <th>date</th>\n",
       "      <th>time</th>\n",
       "      <th>desc</th>\n",
       "      <th>entries_cum</th>\n",
       "      <th>exits_cum</th>\n",
       "      <th>timestamp</th>\n",
       "      <th>turnstile</th>\n",
       "      <th>entries</th>\n",
       "      <th>exits</th>\n",
       "    </tr>\n",
       "  </thead>\n",
       "  <tbody>\n",
       "    <tr>\n",
       "      <th>0</th>\n",
       "      <td>H007</td>\n",
       "      <td>R248</td>\n",
       "      <td>00-00-00</td>\n",
       "      <td>1 AV</td>\n",
       "      <td>L</td>\n",
       "      <td>BMT</td>\n",
       "      <td>2020-08-29</td>\n",
       "      <td>00:00:00</td>\n",
       "      <td>REGULAR</td>\n",
       "      <td>15470879</td>\n",
       "      <td>17378563</td>\n",
       "      <td>2020-08-29 00:00:00</td>\n",
       "      <td>1 AV-H007-R248-00-00-00</td>\n",
       "      <td>NaN</td>\n",
       "      <td>NaN</td>\n",
       "    </tr>\n",
       "    <tr>\n",
       "      <th>1</th>\n",
       "      <td>H007</td>\n",
       "      <td>R248</td>\n",
       "      <td>00-00-00</td>\n",
       "      <td>1 AV</td>\n",
       "      <td>L</td>\n",
       "      <td>BMT</td>\n",
       "      <td>2020-08-29</td>\n",
       "      <td>04:00:00</td>\n",
       "      <td>RECOVR AUD</td>\n",
       "      <td>15470881</td>\n",
       "      <td>17378580</td>\n",
       "      <td>2020-08-29 04:00:00</td>\n",
       "      <td>1 AV-H007-R248-00-00-00</td>\n",
       "      <td>2.0</td>\n",
       "      <td>17.0</td>\n",
       "    </tr>\n",
       "    <tr>\n",
       "      <th>2</th>\n",
       "      <td>H007</td>\n",
       "      <td>R248</td>\n",
       "      <td>00-00-00</td>\n",
       "      <td>1 AV</td>\n",
       "      <td>L</td>\n",
       "      <td>BMT</td>\n",
       "      <td>2020-08-29</td>\n",
       "      <td>08:00:00</td>\n",
       "      <td>REGULAR</td>\n",
       "      <td>15470894</td>\n",
       "      <td>17378700</td>\n",
       "      <td>2020-08-29 08:00:00</td>\n",
       "      <td>1 AV-H007-R248-00-00-00</td>\n",
       "      <td>13.0</td>\n",
       "      <td>120.0</td>\n",
       "    </tr>\n",
       "  </tbody>\n",
       "</table>\n",
       "</div>"
      ],
      "text/plain": [
       "     ca  unit       scp station linename division       date      time  \\\n",
       "0  H007  R248  00-00-00    1 AV        L      BMT 2020-08-29  00:00:00   \n",
       "1  H007  R248  00-00-00    1 AV        L      BMT 2020-08-29  04:00:00   \n",
       "2  H007  R248  00-00-00    1 AV        L      BMT 2020-08-29  08:00:00   \n",
       "\n",
       "         desc  entries_cum  exits_cum           timestamp  \\\n",
       "0     REGULAR     15470879   17378563 2020-08-29 00:00:00   \n",
       "1  RECOVR AUD     15470881   17378580 2020-08-29 04:00:00   \n",
       "2     REGULAR     15470894   17378700 2020-08-29 08:00:00   \n",
       "\n",
       "                 turnstile  entries  exits  \n",
       "0  1 AV-H007-R248-00-00-00      NaN    NaN  \n",
       "1  1 AV-H007-R248-00-00-00      2.0   17.0  \n",
       "2  1 AV-H007-R248-00-00-00     13.0  120.0  "
      ]
     },
     "execution_count": 17,
     "metadata": {},
     "output_type": "execute_result"
    }
   ],
   "source": [
    "mta_sorted.head(3)"
   ]
  },
  {
   "cell_type": "markdown",
   "metadata": {},
   "source": [
    "### Dealing with outliers & NaN values"
   ]
  },
  {
   "cell_type": "markdown",
   "metadata": {},
   "source": [
    "**Dealing with outliers and messy data**\n",
    "\n",
    "Two messy data type:\n",
    "\n",
    "* **Very large values:** some turnstile counts are unbelievably large. We'll set a threshold of 10,000 entries or exits per turnstile per time period (this translates to ~40 entries/exits per minute, which is feasible). Any values above this threshold will be converted to NaN and dropped.\n",
    "* **Not a number (NaN):** the majority of these NaN values is because they were the start of our timeperiod for the turnstile and thus had no prior time period to calculate the actual values from the cumulative figures.\n",
    "\n",
    "A third, **negative values** would have been handled above when we applied the `abs()` method above.\n",
    "\n",
    "These cases will be converted to NaN (if not already NaN) and dropped from the dataset."
   ]
  },
  {
   "cell_type": "code",
   "execution_count": 18,
   "metadata": {
    "ExecuteTime": {
     "end_time": "2020-09-27T17:29:04.741365Z",
     "start_time": "2020-09-27T17:29:04.707628Z"
    }
   },
   "outputs": [
    {
     "name": "stdout",
     "output_type": "stream",
     "text": [
      "Number of negative entries: 0\n",
      "Number of negative exits: 0\n",
      "\n",
      "Number of entries > 10k: 157\n",
      "Number of exits > 10k: 148\n",
      "\n",
      "Number of NaN rows: 4981\n"
     ]
    }
   ],
   "source": [
    "print('Number of negative entries: %d' %len(mta_sorted['entries'][mta_sorted['entries'] < 0]))\n",
    "print('Number of negative exits: %d' %len(mta_sorted['exits'][mta_sorted['exits'] < 0]))\n",
    "print('')\n",
    "print('Number of entries > 10k: %d' %len(mta_sorted['entries'][mta_sorted['entries'] > 10000]))\n",
    "print('Number of exits > 10k: %d' %len(mta_sorted['exits'][mta_sorted['exits'] > 10000]))\n",
    "print('')\n",
    "print('Number of NaN rows: %d' %len(mta_sorted[mta_sorted['entries'].isnull()]))"
   ]
  },
  {
   "cell_type": "code",
   "execution_count": 19,
   "metadata": {
    "ExecuteTime": {
     "end_time": "2020-09-27T17:29:04.749190Z",
     "start_time": "2020-09-27T17:29:04.744989Z"
    }
   },
   "outputs": [],
   "source": [
    "# Filtering for values above our 10k threshold\n",
    "\n",
    "ents_10k = mta_sorted.loc[:, 'entries'] > 10000\n",
    "exits_10k = mta_sorted.loc[:, 'exits'] > 10000"
   ]
  },
  {
   "cell_type": "code",
   "execution_count": 20,
   "metadata": {
    "ExecuteTime": {
     "end_time": "2020-09-27T17:29:04.760372Z",
     "start_time": "2020-09-27T17:29:04.750847Z"
    }
   },
   "outputs": [],
   "source": [
    "# Converting negative and above threshold entries to Nan\n",
    "\n",
    "mta_sorted.loc[ents_10k, 'entries'] = np.nan\n",
    "mta_sorted.loc[exits_10k, 'exits'] = np.nan"
   ]
  },
  {
   "cell_type": "code",
   "execution_count": 21,
   "metadata": {
    "ExecuteTime": {
     "end_time": "2020-09-27T17:29:04.779076Z",
     "start_time": "2020-09-27T17:29:04.762393Z"
    }
   },
   "outputs": [
    {
     "name": "stdout",
     "output_type": "stream",
     "text": [
      "Number of negative entries: 0\n",
      "Number of negative exits: 0\n",
      "\n",
      "Number of entries > 10k: 0\n",
      "Number of exits > 10k: 0\n",
      "\n",
      "Number of NaN rows: 5138\n"
     ]
    }
   ],
   "source": [
    "print('Number of negative entries: %d' %len(mta_sorted['entries'][mta_sorted['entries'] < 0]))\n",
    "print('Number of negative exits: %d' %len(mta_sorted['exits'][mta_sorted['exits'] < 0]))\n",
    "print('')\n",
    "print('Number of entries > 10k: %d' %len(mta_sorted['entries'][mta_sorted['entries'] > 10000]))\n",
    "print('Number of exits > 10k: %d' %len(mta_sorted['exits'][mta_sorted['exits'] > 10000]))\n",
    "print('')\n",
    "print('Number of NaN rows: %d' %len(mta_sorted[mta_sorted['entries'].isnull()]))"
   ]
  },
  {
   "cell_type": "code",
   "execution_count": 22,
   "metadata": {
    "ExecuteTime": {
     "end_time": "2020-09-27T17:29:05.163517Z",
     "start_time": "2020-09-27T17:29:04.780829Z"
    }
   },
   "outputs": [],
   "source": [
    "# Dropping na values\n",
    "\n",
    "mta_sorted.dropna(inplace=True)"
   ]
  },
  {
   "cell_type": "code",
   "execution_count": 23,
   "metadata": {
    "ExecuteTime": {
     "end_time": "2020-09-27T17:29:05.169796Z",
     "start_time": "2020-09-27T17:29:05.165518Z"
    }
   },
   "outputs": [
    {
     "name": "stdout",
     "output_type": "stream",
     "text": [
      "Number of NaN rows: 0\n"
     ]
    }
   ],
   "source": [
    "print('Number of NaN rows: %d' %len(mta_sorted[mta_sorted['entries'].isnull()]))"
   ]
  },
  {
   "cell_type": "code",
   "execution_count": 24,
   "metadata": {
    "ExecuteTime": {
     "end_time": "2020-09-27T17:29:05.176797Z",
     "start_time": "2020-09-27T17:29:05.171447Z"
    }
   },
   "outputs": [],
   "source": [
    "mta_sorted['total'] = mta_sorted['entries'] + mta_sorted['exits']"
   ]
  },
  {
   "cell_type": "code",
   "execution_count": 25,
   "metadata": {
    "ExecuteTime": {
     "end_time": "2020-09-27T17:29:05.392332Z",
     "start_time": "2020-09-27T17:29:05.178556Z"
    }
   },
   "outputs": [],
   "source": [
    "mta_sorted['weekday'] = mta_sorted['date'].dt.day_name()\n",
    "mta_sorted['weekday_num'] = mta_sorted['date'].dt.dayofweek"
   ]
  },
  {
   "cell_type": "code",
   "execution_count": 26,
   "metadata": {
    "ExecuteTime": {
     "end_time": "2020-09-27T17:29:05.409957Z",
     "start_time": "2020-09-27T17:29:05.394156Z"
    },
    "scrolled": true
   },
   "outputs": [
    {
     "data": {
      "text/html": [
       "<div>\n",
       "<style scoped>\n",
       "    .dataframe tbody tr th:only-of-type {\n",
       "        vertical-align: middle;\n",
       "    }\n",
       "\n",
       "    .dataframe tbody tr th {\n",
       "        vertical-align: top;\n",
       "    }\n",
       "\n",
       "    .dataframe thead th {\n",
       "        text-align: right;\n",
       "    }\n",
       "</style>\n",
       "<table border=\"1\" class=\"dataframe\">\n",
       "  <thead>\n",
       "    <tr style=\"text-align: right;\">\n",
       "      <th></th>\n",
       "      <th>ca</th>\n",
       "      <th>unit</th>\n",
       "      <th>scp</th>\n",
       "      <th>station</th>\n",
       "      <th>linename</th>\n",
       "      <th>division</th>\n",
       "      <th>date</th>\n",
       "      <th>time</th>\n",
       "      <th>desc</th>\n",
       "      <th>entries_cum</th>\n",
       "      <th>exits_cum</th>\n",
       "      <th>timestamp</th>\n",
       "      <th>turnstile</th>\n",
       "      <th>entries</th>\n",
       "      <th>exits</th>\n",
       "      <th>total</th>\n",
       "      <th>weekday</th>\n",
       "      <th>weekday_num</th>\n",
       "    </tr>\n",
       "  </thead>\n",
       "  <tbody>\n",
       "    <tr>\n",
       "      <th>1</th>\n",
       "      <td>H007</td>\n",
       "      <td>R248</td>\n",
       "      <td>00-00-00</td>\n",
       "      <td>1 AV</td>\n",
       "      <td>L</td>\n",
       "      <td>BMT</td>\n",
       "      <td>2020-08-29</td>\n",
       "      <td>04:00:00</td>\n",
       "      <td>RECOVR AUD</td>\n",
       "      <td>15470881</td>\n",
       "      <td>17378580</td>\n",
       "      <td>2020-08-29 04:00:00</td>\n",
       "      <td>1 AV-H007-R248-00-00-00</td>\n",
       "      <td>2.0</td>\n",
       "      <td>17.0</td>\n",
       "      <td>19.0</td>\n",
       "      <td>Saturday</td>\n",
       "      <td>5</td>\n",
       "    </tr>\n",
       "    <tr>\n",
       "      <th>2</th>\n",
       "      <td>H007</td>\n",
       "      <td>R248</td>\n",
       "      <td>00-00-00</td>\n",
       "      <td>1 AV</td>\n",
       "      <td>L</td>\n",
       "      <td>BMT</td>\n",
       "      <td>2020-08-29</td>\n",
       "      <td>08:00:00</td>\n",
       "      <td>REGULAR</td>\n",
       "      <td>15470894</td>\n",
       "      <td>17378700</td>\n",
       "      <td>2020-08-29 08:00:00</td>\n",
       "      <td>1 AV-H007-R248-00-00-00</td>\n",
       "      <td>13.0</td>\n",
       "      <td>120.0</td>\n",
       "      <td>133.0</td>\n",
       "      <td>Saturday</td>\n",
       "      <td>5</td>\n",
       "    </tr>\n",
       "    <tr>\n",
       "      <th>3</th>\n",
       "      <td>H007</td>\n",
       "      <td>R248</td>\n",
       "      <td>00-00-00</td>\n",
       "      <td>1 AV</td>\n",
       "      <td>L</td>\n",
       "      <td>BMT</td>\n",
       "      <td>2020-08-29</td>\n",
       "      <td>12:00:00</td>\n",
       "      <td>REGULAR</td>\n",
       "      <td>15470949</td>\n",
       "      <td>17378915</td>\n",
       "      <td>2020-08-29 12:00:00</td>\n",
       "      <td>1 AV-H007-R248-00-00-00</td>\n",
       "      <td>55.0</td>\n",
       "      <td>215.0</td>\n",
       "      <td>270.0</td>\n",
       "      <td>Saturday</td>\n",
       "      <td>5</td>\n",
       "    </tr>\n",
       "  </tbody>\n",
       "</table>\n",
       "</div>"
      ],
      "text/plain": [
       "     ca  unit       scp station linename division       date      time  \\\n",
       "1  H007  R248  00-00-00    1 AV        L      BMT 2020-08-29  04:00:00   \n",
       "2  H007  R248  00-00-00    1 AV        L      BMT 2020-08-29  08:00:00   \n",
       "3  H007  R248  00-00-00    1 AV        L      BMT 2020-08-29  12:00:00   \n",
       "\n",
       "         desc  entries_cum  exits_cum           timestamp  \\\n",
       "1  RECOVR AUD     15470881   17378580 2020-08-29 04:00:00   \n",
       "2     REGULAR     15470894   17378700 2020-08-29 08:00:00   \n",
       "3     REGULAR     15470949   17378915 2020-08-29 12:00:00   \n",
       "\n",
       "                 turnstile  entries  exits  total   weekday  weekday_num  \n",
       "1  1 AV-H007-R248-00-00-00      2.0   17.0   19.0  Saturday            5  \n",
       "2  1 AV-H007-R248-00-00-00     13.0  120.0  133.0  Saturday            5  \n",
       "3  1 AV-H007-R248-00-00-00     55.0  215.0  270.0  Saturday            5  "
      ]
     },
     "execution_count": 26,
     "metadata": {},
     "output_type": "execute_result"
    }
   ],
   "source": [
    "mta_sorted.head(3)"
   ]
  },
  {
   "cell_type": "markdown",
   "metadata": {},
   "source": [
    "### Final clean MTA dataframe"
   ]
  },
  {
   "cell_type": "code",
   "execution_count": 27,
   "metadata": {
    "ExecuteTime": {
     "end_time": "2020-09-27T17:29:05.640782Z",
     "start_time": "2020-09-27T17:29:05.411547Z"
    }
   },
   "outputs": [],
   "source": [
    "mta = mta_sorted[['station', \n",
    "                 'ca', \n",
    "                 'unit',\n",
    "                 'scp',\n",
    "                 'linename',\n",
    "                 'division',\n",
    "                 'date',\n",
    "                 'time',\n",
    "                 'timestamp',\n",
    "                 'weekday',\n",
    "                 'weekday_num',\n",
    "                 'entries',\n",
    "                 'exits',\n",
    "                 'total']]"
   ]
  },
  {
   "cell_type": "code",
   "execution_count": 28,
   "metadata": {
    "ExecuteTime": {
     "end_time": "2020-09-27T17:29:05.655894Z",
     "start_time": "2020-09-27T17:29:05.642704Z"
    }
   },
   "outputs": [
    {
     "data": {
      "text/html": [
       "<div>\n",
       "<style scoped>\n",
       "    .dataframe tbody tr th:only-of-type {\n",
       "        vertical-align: middle;\n",
       "    }\n",
       "\n",
       "    .dataframe tbody tr th {\n",
       "        vertical-align: top;\n",
       "    }\n",
       "\n",
       "    .dataframe thead th {\n",
       "        text-align: right;\n",
       "    }\n",
       "</style>\n",
       "<table border=\"1\" class=\"dataframe\">\n",
       "  <thead>\n",
       "    <tr style=\"text-align: right;\">\n",
       "      <th></th>\n",
       "      <th>station</th>\n",
       "      <th>ca</th>\n",
       "      <th>unit</th>\n",
       "      <th>scp</th>\n",
       "      <th>linename</th>\n",
       "      <th>division</th>\n",
       "      <th>date</th>\n",
       "      <th>time</th>\n",
       "      <th>timestamp</th>\n",
       "      <th>weekday</th>\n",
       "      <th>weekday_num</th>\n",
       "      <th>entries</th>\n",
       "      <th>exits</th>\n",
       "      <th>total</th>\n",
       "    </tr>\n",
       "  </thead>\n",
       "  <tbody>\n",
       "    <tr>\n",
       "      <th>1</th>\n",
       "      <td>1 AV</td>\n",
       "      <td>H007</td>\n",
       "      <td>R248</td>\n",
       "      <td>00-00-00</td>\n",
       "      <td>L</td>\n",
       "      <td>BMT</td>\n",
       "      <td>2020-08-29</td>\n",
       "      <td>04:00:00</td>\n",
       "      <td>2020-08-29 04:00:00</td>\n",
       "      <td>Saturday</td>\n",
       "      <td>5</td>\n",
       "      <td>2.0</td>\n",
       "      <td>17.0</td>\n",
       "      <td>19.0</td>\n",
       "    </tr>\n",
       "    <tr>\n",
       "      <th>2</th>\n",
       "      <td>1 AV</td>\n",
       "      <td>H007</td>\n",
       "      <td>R248</td>\n",
       "      <td>00-00-00</td>\n",
       "      <td>L</td>\n",
       "      <td>BMT</td>\n",
       "      <td>2020-08-29</td>\n",
       "      <td>08:00:00</td>\n",
       "      <td>2020-08-29 08:00:00</td>\n",
       "      <td>Saturday</td>\n",
       "      <td>5</td>\n",
       "      <td>13.0</td>\n",
       "      <td>120.0</td>\n",
       "      <td>133.0</td>\n",
       "    </tr>\n",
       "    <tr>\n",
       "      <th>3</th>\n",
       "      <td>1 AV</td>\n",
       "      <td>H007</td>\n",
       "      <td>R248</td>\n",
       "      <td>00-00-00</td>\n",
       "      <td>L</td>\n",
       "      <td>BMT</td>\n",
       "      <td>2020-08-29</td>\n",
       "      <td>12:00:00</td>\n",
       "      <td>2020-08-29 12:00:00</td>\n",
       "      <td>Saturday</td>\n",
       "      <td>5</td>\n",
       "      <td>55.0</td>\n",
       "      <td>215.0</td>\n",
       "      <td>270.0</td>\n",
       "    </tr>\n",
       "  </tbody>\n",
       "</table>\n",
       "</div>"
      ],
      "text/plain": [
       "  station    ca  unit       scp linename division       date      time  \\\n",
       "1    1 AV  H007  R248  00-00-00        L      BMT 2020-08-29  04:00:00   \n",
       "2    1 AV  H007  R248  00-00-00        L      BMT 2020-08-29  08:00:00   \n",
       "3    1 AV  H007  R248  00-00-00        L      BMT 2020-08-29  12:00:00   \n",
       "\n",
       "            timestamp   weekday  weekday_num  entries  exits  total  \n",
       "1 2020-08-29 04:00:00  Saturday            5      2.0   17.0   19.0  \n",
       "2 2020-08-29 08:00:00  Saturday            5     13.0  120.0  133.0  \n",
       "3 2020-08-29 12:00:00  Saturday            5     55.0  215.0  270.0  "
      ]
     },
     "execution_count": 28,
     "metadata": {},
     "output_type": "execute_result"
    }
   ],
   "source": [
    "mta.head(3)"
   ]
  },
  {
   "cell_type": "code",
   "execution_count": 29,
   "metadata": {
    "ExecuteTime": {
     "end_time": "2020-09-27T17:29:05.683439Z",
     "start_time": "2020-09-27T17:29:05.657652Z"
    }
   },
   "outputs": [],
   "source": [
    "del mta_raw\n",
    "del mta_sorted"
   ]
  },
  {
   "cell_type": "markdown",
   "metadata": {},
   "source": [
    "## Setting up a clean DataFrame for Benford's Testing"
   ]
  },
  {
   "cell_type": "markdown",
   "metadata": {},
   "source": [
    "### Finding the leading digit for each entry"
   ]
  },
  {
   "cell_type": "markdown",
   "metadata": {},
   "source": [
    "Next, I'll create a new column to hold the leading digit from the `entries`, `exits`, and `total` columns"
   ]
  },
  {
   "cell_type": "code",
   "execution_count": 30,
   "metadata": {
    "ExecuteTime": {
     "end_time": "2020-09-27T17:29:06.840802Z",
     "start_time": "2020-09-27T17:29:05.685410Z"
    }
   },
   "outputs": [
    {
     "name": "stderr",
     "output_type": "stream",
     "text": [
      "<ipython-input-30-cc484278e462>:1: SettingWithCopyWarning: \n",
      "A value is trying to be set on a copy of a slice from a DataFrame.\n",
      "Try using .loc[row_indexer,col_indexer] = value instead\n",
      "\n",
      "See the caveats in the documentation: https://pandas.pydata.org/pandas-docs/stable/user_guide/indexing.html#returning-a-view-versus-a-copy\n",
      "  mta['ent_dig'] = mta['entries'].astype(str)\n",
      "<ipython-input-30-cc484278e462>:2: SettingWithCopyWarning: \n",
      "A value is trying to be set on a copy of a slice from a DataFrame.\n",
      "Try using .loc[row_indexer,col_indexer] = value instead\n",
      "\n",
      "See the caveats in the documentation: https://pandas.pydata.org/pandas-docs/stable/user_guide/indexing.html#returning-a-view-versus-a-copy\n",
      "  mta['ent_dig'] = (mta['ent_dig'].apply(lambda x: x[0])).astype(int)\n",
      "<ipython-input-30-cc484278e462>:4: SettingWithCopyWarning: \n",
      "A value is trying to be set on a copy of a slice from a DataFrame.\n",
      "Try using .loc[row_indexer,col_indexer] = value instead\n",
      "\n",
      "See the caveats in the documentation: https://pandas.pydata.org/pandas-docs/stable/user_guide/indexing.html#returning-a-view-versus-a-copy\n",
      "  mta['ex_dig'] = mta['exits'].astype(str)\n",
      "<ipython-input-30-cc484278e462>:5: SettingWithCopyWarning: \n",
      "A value is trying to be set on a copy of a slice from a DataFrame.\n",
      "Try using .loc[row_indexer,col_indexer] = value instead\n",
      "\n",
      "See the caveats in the documentation: https://pandas.pydata.org/pandas-docs/stable/user_guide/indexing.html#returning-a-view-versus-a-copy\n",
      "  mta['ex_dig'] = (mta['ex_dig'].apply(lambda x: x[0])).astype(int)\n",
      "<ipython-input-30-cc484278e462>:7: SettingWithCopyWarning: \n",
      "A value is trying to be set on a copy of a slice from a DataFrame.\n",
      "Try using .loc[row_indexer,col_indexer] = value instead\n",
      "\n",
      "See the caveats in the documentation: https://pandas.pydata.org/pandas-docs/stable/user_guide/indexing.html#returning-a-view-versus-a-copy\n",
      "  mta['total_dig'] = mta['total'].astype(str)\n",
      "<ipython-input-30-cc484278e462>:8: SettingWithCopyWarning: \n",
      "A value is trying to be set on a copy of a slice from a DataFrame.\n",
      "Try using .loc[row_indexer,col_indexer] = value instead\n",
      "\n",
      "See the caveats in the documentation: https://pandas.pydata.org/pandas-docs/stable/user_guide/indexing.html#returning-a-view-versus-a-copy\n",
      "  mta['total_dig'] = (mta['total_dig'].apply(lambda x: x[0])).astype(int)\n"
     ]
    }
   ],
   "source": [
    "mta['ent_dig'] = mta['entries'].astype(str)\n",
    "mta['ent_dig'] = (mta['ent_dig'].apply(lambda x: x[0])).astype(int)\n",
    "\n",
    "mta['ex_dig'] = mta['exits'].astype(str)\n",
    "mta['ex_dig'] = (mta['ex_dig'].apply(lambda x: x[0])).astype(int)\n",
    "\n",
    "mta['total_dig'] = mta['total'].astype(str)\n",
    "mta['total_dig'] = (mta['total_dig'].apply(lambda x: x[0])).astype(int)"
   ]
  },
  {
   "cell_type": "code",
   "execution_count": 31,
   "metadata": {
    "ExecuteTime": {
     "end_time": "2020-09-27T17:29:06.854843Z",
     "start_time": "2020-09-27T17:29:06.842179Z"
    },
    "scrolled": true
   },
   "outputs": [
    {
     "data": {
      "text/html": [
       "<div>\n",
       "<style scoped>\n",
       "    .dataframe tbody tr th:only-of-type {\n",
       "        vertical-align: middle;\n",
       "    }\n",
       "\n",
       "    .dataframe tbody tr th {\n",
       "        vertical-align: top;\n",
       "    }\n",
       "\n",
       "    .dataframe thead th {\n",
       "        text-align: right;\n",
       "    }\n",
       "</style>\n",
       "<table border=\"1\" class=\"dataframe\">\n",
       "  <thead>\n",
       "    <tr style=\"text-align: right;\">\n",
       "      <th></th>\n",
       "      <th>station</th>\n",
       "      <th>ca</th>\n",
       "      <th>unit</th>\n",
       "      <th>scp</th>\n",
       "      <th>linename</th>\n",
       "      <th>division</th>\n",
       "      <th>date</th>\n",
       "      <th>time</th>\n",
       "      <th>timestamp</th>\n",
       "      <th>weekday</th>\n",
       "      <th>weekday_num</th>\n",
       "      <th>entries</th>\n",
       "      <th>exits</th>\n",
       "      <th>total</th>\n",
       "      <th>ent_dig</th>\n",
       "      <th>ex_dig</th>\n",
       "      <th>total_dig</th>\n",
       "    </tr>\n",
       "  </thead>\n",
       "  <tbody>\n",
       "    <tr>\n",
       "      <th>1</th>\n",
       "      <td>1 AV</td>\n",
       "      <td>H007</td>\n",
       "      <td>R248</td>\n",
       "      <td>00-00-00</td>\n",
       "      <td>L</td>\n",
       "      <td>BMT</td>\n",
       "      <td>2020-08-29</td>\n",
       "      <td>04:00:00</td>\n",
       "      <td>2020-08-29 04:00:00</td>\n",
       "      <td>Saturday</td>\n",
       "      <td>5</td>\n",
       "      <td>2.0</td>\n",
       "      <td>17.0</td>\n",
       "      <td>19.0</td>\n",
       "      <td>2</td>\n",
       "      <td>1</td>\n",
       "      <td>1</td>\n",
       "    </tr>\n",
       "    <tr>\n",
       "      <th>2</th>\n",
       "      <td>1 AV</td>\n",
       "      <td>H007</td>\n",
       "      <td>R248</td>\n",
       "      <td>00-00-00</td>\n",
       "      <td>L</td>\n",
       "      <td>BMT</td>\n",
       "      <td>2020-08-29</td>\n",
       "      <td>08:00:00</td>\n",
       "      <td>2020-08-29 08:00:00</td>\n",
       "      <td>Saturday</td>\n",
       "      <td>5</td>\n",
       "      <td>13.0</td>\n",
       "      <td>120.0</td>\n",
       "      <td>133.0</td>\n",
       "      <td>1</td>\n",
       "      <td>1</td>\n",
       "      <td>1</td>\n",
       "    </tr>\n",
       "    <tr>\n",
       "      <th>3</th>\n",
       "      <td>1 AV</td>\n",
       "      <td>H007</td>\n",
       "      <td>R248</td>\n",
       "      <td>00-00-00</td>\n",
       "      <td>L</td>\n",
       "      <td>BMT</td>\n",
       "      <td>2020-08-29</td>\n",
       "      <td>12:00:00</td>\n",
       "      <td>2020-08-29 12:00:00</td>\n",
       "      <td>Saturday</td>\n",
       "      <td>5</td>\n",
       "      <td>55.0</td>\n",
       "      <td>215.0</td>\n",
       "      <td>270.0</td>\n",
       "      <td>5</td>\n",
       "      <td>2</td>\n",
       "      <td>2</td>\n",
       "    </tr>\n",
       "  </tbody>\n",
       "</table>\n",
       "</div>"
      ],
      "text/plain": [
       "  station    ca  unit       scp linename division       date      time  \\\n",
       "1    1 AV  H007  R248  00-00-00        L      BMT 2020-08-29  04:00:00   \n",
       "2    1 AV  H007  R248  00-00-00        L      BMT 2020-08-29  08:00:00   \n",
       "3    1 AV  H007  R248  00-00-00        L      BMT 2020-08-29  12:00:00   \n",
       "\n",
       "            timestamp   weekday  weekday_num  entries  exits  total  ent_dig  \\\n",
       "1 2020-08-29 04:00:00  Saturday            5      2.0   17.0   19.0        2   \n",
       "2 2020-08-29 08:00:00  Saturday            5     13.0  120.0  133.0        1   \n",
       "3 2020-08-29 12:00:00  Saturday            5     55.0  215.0  270.0        5   \n",
       "\n",
       "   ex_dig  total_dig  \n",
       "1       1          1  \n",
       "2       1          1  \n",
       "3       2          2  "
      ]
     },
     "execution_count": 31,
     "metadata": {},
     "output_type": "execute_result"
    }
   ],
   "source": [
    "mta.head(3)"
   ]
  },
  {
   "cell_type": "markdown",
   "metadata": {},
   "source": [
    "### Dealing with Zeros\n",
    "\n",
    "As we can see below, there are thousands of entries with a zero as the leading digit for entries, extits, and/or total. \n",
    "\n",
    "**Next steps**\n",
    "* Split up `mta` into three dataframes focusing on leading digits: \n",
    "    * Entries\n",
    "    * Exits\n",
    "    * Total\n",
    "* Drop rows with zeroes from these dataframes  "
   ]
  },
  {
   "cell_type": "code",
   "execution_count": 32,
   "metadata": {
    "ExecuteTime": {
     "end_time": "2020-09-27T17:29:06.935033Z",
     "start_time": "2020-09-27T17:29:06.856358Z"
    }
   },
   "outputs": [
    {
     "data": {
      "text/html": [
       "<div>\n",
       "<style scoped>\n",
       "    .dataframe tbody tr th:only-of-type {\n",
       "        vertical-align: middle;\n",
       "    }\n",
       "\n",
       "    .dataframe tbody tr th {\n",
       "        vertical-align: top;\n",
       "    }\n",
       "\n",
       "    .dataframe thead th {\n",
       "        text-align: right;\n",
       "    }\n",
       "</style>\n",
       "<table border=\"1\" class=\"dataframe\">\n",
       "  <thead>\n",
       "    <tr style=\"text-align: right;\">\n",
       "      <th></th>\n",
       "      <th>station</th>\n",
       "      <th>ca</th>\n",
       "      <th>unit</th>\n",
       "      <th>scp</th>\n",
       "      <th>linename</th>\n",
       "      <th>division</th>\n",
       "      <th>date</th>\n",
       "      <th>time</th>\n",
       "      <th>timestamp</th>\n",
       "      <th>weekday</th>\n",
       "      <th>weekday_num</th>\n",
       "      <th>entries</th>\n",
       "      <th>exits</th>\n",
       "      <th>total</th>\n",
       "      <th>ent_dig</th>\n",
       "      <th>ex_dig</th>\n",
       "      <th>total_dig</th>\n",
       "    </tr>\n",
       "  </thead>\n",
       "  <tbody>\n",
       "    <tr>\n",
       "      <th>19</th>\n",
       "      <td>1 AV</td>\n",
       "      <td>H007</td>\n",
       "      <td>R248</td>\n",
       "      <td>00-00-00</td>\n",
       "      <td>L</td>\n",
       "      <td>BMT</td>\n",
       "      <td>2020-09-01</td>\n",
       "      <td>04:00:00</td>\n",
       "      <td>2020-09-01 04:00:00</td>\n",
       "      <td>Tuesday</td>\n",
       "      <td>1</td>\n",
       "      <td>0.0</td>\n",
       "      <td>9.0</td>\n",
       "      <td>9.0</td>\n",
       "      <td>0</td>\n",
       "      <td>9</td>\n",
       "      <td>9</td>\n",
       "    </tr>\n",
       "    <tr>\n",
       "      <th>25</th>\n",
       "      <td>1 AV</td>\n",
       "      <td>H007</td>\n",
       "      <td>R248</td>\n",
       "      <td>00-00-00</td>\n",
       "      <td>L</td>\n",
       "      <td>BMT</td>\n",
       "      <td>2020-09-02</td>\n",
       "      <td>04:00:00</td>\n",
       "      <td>2020-09-02 04:00:00</td>\n",
       "      <td>Wednesday</td>\n",
       "      <td>2</td>\n",
       "      <td>0.0</td>\n",
       "      <td>9.0</td>\n",
       "      <td>9.0</td>\n",
       "      <td>0</td>\n",
       "      <td>9</td>\n",
       "      <td>9</td>\n",
       "    </tr>\n",
       "    <tr>\n",
       "      <th>31</th>\n",
       "      <td>1 AV</td>\n",
       "      <td>H007</td>\n",
       "      <td>R248</td>\n",
       "      <td>00-00-00</td>\n",
       "      <td>L</td>\n",
       "      <td>BMT</td>\n",
       "      <td>2020-09-03</td>\n",
       "      <td>04:00:00</td>\n",
       "      <td>2020-09-03 04:00:00</td>\n",
       "      <td>Thursday</td>\n",
       "      <td>3</td>\n",
       "      <td>0.0</td>\n",
       "      <td>15.0</td>\n",
       "      <td>15.0</td>\n",
       "      <td>0</td>\n",
       "      <td>1</td>\n",
       "      <td>1</td>\n",
       "    </tr>\n",
       "  </tbody>\n",
       "</table>\n",
       "</div>"
      ],
      "text/plain": [
       "   station    ca  unit       scp linename division       date      time  \\\n",
       "19    1 AV  H007  R248  00-00-00        L      BMT 2020-09-01  04:00:00   \n",
       "25    1 AV  H007  R248  00-00-00        L      BMT 2020-09-02  04:00:00   \n",
       "31    1 AV  H007  R248  00-00-00        L      BMT 2020-09-03  04:00:00   \n",
       "\n",
       "             timestamp    weekday  weekday_num  entries  exits  total  \\\n",
       "19 2020-09-01 04:00:00    Tuesday            1      0.0    9.0    9.0   \n",
       "25 2020-09-02 04:00:00  Wednesday            2      0.0    9.0    9.0   \n",
       "31 2020-09-03 04:00:00   Thursday            3      0.0   15.0   15.0   \n",
       "\n",
       "    ent_dig  ex_dig  total_dig  \n",
       "19        0       9          9  \n",
       "25        0       9          9  \n",
       "31        0       1          1  "
      ]
     },
     "execution_count": 32,
     "metadata": {},
     "output_type": "execute_result"
    }
   ],
   "source": [
    "ent_zeroes = mta[mta['ent_dig']==0]\n",
    "ent_zeroes.head(3)"
   ]
  },
  {
   "cell_type": "code",
   "execution_count": 33,
   "metadata": {
    "ExecuteTime": {
     "end_time": "2020-09-27T17:29:06.993476Z",
     "start_time": "2020-09-27T17:29:06.937101Z"
    }
   },
   "outputs": [
    {
     "name": "stdout",
     "output_type": "stream",
     "text": [
      "Number of Entry Zeroes: 193429\n",
      "Number of Exit Zeroes: 156409\n",
      "Number of Total Zeroes: 130587\n"
     ]
    }
   ],
   "source": [
    "exit_zeroes = mta[mta['ex_dig']==0]\n",
    "total_zeroes = mta[mta['total_dig']==0]\n",
    "\n",
    "print('Number of Entry Zeroes: {}'.format(len(ent_zeroes)))\n",
    "print('Number of Exit Zeroes: {}'.format(len(exit_zeroes)))\n",
    "print('Number of Total Zeroes: {}'.format(len(total_zeroes)))"
   ]
  },
  {
   "cell_type": "code",
   "execution_count": 34,
   "metadata": {
    "ExecuteTime": {
     "end_time": "2020-09-27T17:29:07.283864Z",
     "start_time": "2020-09-27T17:29:06.995347Z"
    }
   },
   "outputs": [],
   "source": [
    "benford_ents = mta[mta['ent_dig'] > 0]\n",
    "benford_exits = mta[mta['ex_dig'] > 0]\n",
    "benford_total = mta[mta['total_dig'] > 0]"
   ]
  },
  {
   "cell_type": "markdown",
   "metadata": {},
   "source": [
    "## Benford's Law Test: Entries\n",
    "\n",
    "To start, I'll look at the leading digits for all entry values."
   ]
  },
  {
   "cell_type": "markdown",
   "metadata": {},
   "source": [
    "### Setting up the Entries DataFrame"
   ]
  },
  {
   "cell_type": "code",
   "execution_count": 35,
   "metadata": {
    "ExecuteTime": {
     "end_time": "2020-09-27T17:29:07.345197Z",
     "start_time": "2020-09-27T17:29:07.285939Z"
    }
   },
   "outputs": [
    {
     "data": {
      "text/html": [
       "<div>\n",
       "<style scoped>\n",
       "    .dataframe tbody tr th:only-of-type {\n",
       "        vertical-align: middle;\n",
       "    }\n",
       "\n",
       "    .dataframe tbody tr th {\n",
       "        vertical-align: top;\n",
       "    }\n",
       "\n",
       "    .dataframe thead th {\n",
       "        text-align: right;\n",
       "    }\n",
       "</style>\n",
       "<table border=\"1\" class=\"dataframe\">\n",
       "  <thead>\n",
       "    <tr style=\"text-align: right;\">\n",
       "      <th></th>\n",
       "      <th>station</th>\n",
       "      <th>date</th>\n",
       "      <th>time</th>\n",
       "      <th>timestamp</th>\n",
       "      <th>weekday</th>\n",
       "      <th>weekday_num</th>\n",
       "      <th>ent_dig</th>\n",
       "    </tr>\n",
       "  </thead>\n",
       "  <tbody>\n",
       "    <tr>\n",
       "      <th>1</th>\n",
       "      <td>1 AV</td>\n",
       "      <td>2020-08-29</td>\n",
       "      <td>04:00:00</td>\n",
       "      <td>2020-08-29 04:00:00</td>\n",
       "      <td>Saturday</td>\n",
       "      <td>5</td>\n",
       "      <td>2</td>\n",
       "    </tr>\n",
       "    <tr>\n",
       "      <th>2</th>\n",
       "      <td>1 AV</td>\n",
       "      <td>2020-08-29</td>\n",
       "      <td>08:00:00</td>\n",
       "      <td>2020-08-29 08:00:00</td>\n",
       "      <td>Saturday</td>\n",
       "      <td>5</td>\n",
       "      <td>1</td>\n",
       "    </tr>\n",
       "    <tr>\n",
       "      <th>3</th>\n",
       "      <td>1 AV</td>\n",
       "      <td>2020-08-29</td>\n",
       "      <td>12:00:00</td>\n",
       "      <td>2020-08-29 12:00:00</td>\n",
       "      <td>Saturday</td>\n",
       "      <td>5</td>\n",
       "      <td>5</td>\n",
       "    </tr>\n",
       "  </tbody>\n",
       "</table>\n",
       "</div>"
      ],
      "text/plain": [
       "  station       date      time           timestamp   weekday  weekday_num  \\\n",
       "1    1 AV 2020-08-29  04:00:00 2020-08-29 04:00:00  Saturday            5   \n",
       "2    1 AV 2020-08-29  08:00:00 2020-08-29 08:00:00  Saturday            5   \n",
       "3    1 AV 2020-08-29  12:00:00 2020-08-29 12:00:00  Saturday            5   \n",
       "\n",
       "   ent_dig  \n",
       "1        2  \n",
       "2        1  \n",
       "3        5  "
      ]
     },
     "execution_count": 35,
     "metadata": {},
     "output_type": "execute_result"
    }
   ],
   "source": [
    "benford_ents = benford_ents[['station', 'date', 'time', 'timestamp', 'weekday', 'weekday_num', 'ent_dig']]\n",
    "benford_ents.head(3)"
   ]
  },
  {
   "cell_type": "code",
   "execution_count": 36,
   "metadata": {
    "ExecuteTime": {
     "end_time": "2020-09-27T17:29:07.359107Z",
     "start_time": "2020-09-27T17:29:07.346903Z"
    },
    "scrolled": false
   },
   "outputs": [
    {
     "data": {
      "text/html": [
       "<div>\n",
       "<style scoped>\n",
       "    .dataframe tbody tr th:only-of-type {\n",
       "        vertical-align: middle;\n",
       "    }\n",
       "\n",
       "    .dataframe tbody tr th {\n",
       "        vertical-align: top;\n",
       "    }\n",
       "\n",
       "    .dataframe thead th {\n",
       "        text-align: right;\n",
       "    }\n",
       "</style>\n",
       "<table border=\"1\" class=\"dataframe\">\n",
       "  <thead>\n",
       "    <tr style=\"text-align: right;\">\n",
       "      <th></th>\n",
       "      <th>digit</th>\n",
       "      <th>counts</th>\n",
       "    </tr>\n",
       "  </thead>\n",
       "  <tbody>\n",
       "    <tr>\n",
       "      <th>1</th>\n",
       "      <td>1</td>\n",
       "      <td>207146</td>\n",
       "    </tr>\n",
       "    <tr>\n",
       "      <th>2</th>\n",
       "      <td>2</td>\n",
       "      <td>113084</td>\n",
       "    </tr>\n",
       "    <tr>\n",
       "      <th>3</th>\n",
       "      <td>3</td>\n",
       "      <td>76387</td>\n",
       "    </tr>\n",
       "    <tr>\n",
       "      <th>4</th>\n",
       "      <td>4</td>\n",
       "      <td>59372</td>\n",
       "    </tr>\n",
       "    <tr>\n",
       "      <th>5</th>\n",
       "      <td>5</td>\n",
       "      <td>48314</td>\n",
       "    </tr>\n",
       "    <tr>\n",
       "      <th>6</th>\n",
       "      <td>6</td>\n",
       "      <td>41203</td>\n",
       "    </tr>\n",
       "    <tr>\n",
       "      <th>7</th>\n",
       "      <td>7</td>\n",
       "      <td>35586</td>\n",
       "    </tr>\n",
       "    <tr>\n",
       "      <th>8</th>\n",
       "      <td>8</td>\n",
       "      <td>30965</td>\n",
       "    </tr>\n",
       "    <tr>\n",
       "      <th>9</th>\n",
       "      <td>9</td>\n",
       "      <td>27500</td>\n",
       "    </tr>\n",
       "  </tbody>\n",
       "</table>\n",
       "</div>"
      ],
      "text/plain": [
       "   digit  counts\n",
       "1      1  207146\n",
       "2      2  113084\n",
       "3      3   76387\n",
       "4      4   59372\n",
       "5      5   48314\n",
       "6      6   41203\n",
       "7      7   35586\n",
       "8      8   30965\n",
       "9      9   27500"
      ]
     },
     "execution_count": 36,
     "metadata": {},
     "output_type": "execute_result"
    }
   ],
   "source": [
    "nums = list(range(1, 10))\n",
    "benford_ents_count = list(benford_ents.ent_dig.value_counts())\n",
    "benford_ents_df = pd.DataFrame({'digit': nums, \n",
    "                              'counts': benford_ents_count}, index=nums)\n",
    "benford_ents_df"
   ]
  },
  {
   "cell_type": "markdown",
   "metadata": {},
   "source": [
    "Finding the frequencies for each leading digit and the difference from Benford's Law (both absolute point differences and percent differences)"
   ]
  },
  {
   "cell_type": "code",
   "execution_count": 37,
   "metadata": {
    "ExecuteTime": {
     "end_time": "2020-09-27T17:29:07.365400Z",
     "start_time": "2020-09-27T17:29:07.361733Z"
    }
   },
   "outputs": [
    {
     "data": {
      "text/plain": [
       "639557"
      ]
     },
     "execution_count": 37,
     "metadata": {},
     "output_type": "execute_result"
    }
   ],
   "source": [
    "total_entries = benford_ents_df.counts.sum()\n",
    "total_entries"
   ]
  },
  {
   "cell_type": "code",
   "execution_count": 38,
   "metadata": {
    "ExecuteTime": {
     "end_time": "2020-09-27T17:29:07.372688Z",
     "start_time": "2020-09-27T17:29:07.366940Z"
    }
   },
   "outputs": [],
   "source": [
    "# Creating % Frequency Column\n",
    "benford_ents_df['percent'] = benford_ents_df['counts'].apply(lambda x: (x / total_entries) * 100).round(decimals=1)\n",
    "\n",
    "# Adding Benford's Law %s, and some calculation columns to see the difference\n",
    "benford_ents_df['benfords'] = benfords['percent']\n",
    "benford_ents_df['diff_abs'] = (benford_ents_df['percent'] - benford_ents_df['benfords']).abs()\n",
    "benford_ents_df['diff_perc'] = (benford_ents_df['diff_abs'] / benford_ents_df['percent']) * 100"
   ]
  },
  {
   "cell_type": "code",
   "execution_count": 39,
   "metadata": {
    "ExecuteTime": {
     "end_time": "2020-09-27T17:29:07.382642Z",
     "start_time": "2020-09-27T17:29:07.374230Z"
    },
    "scrolled": true
   },
   "outputs": [
    {
     "data": {
      "text/html": [
       "<div>\n",
       "<style scoped>\n",
       "    .dataframe tbody tr th:only-of-type {\n",
       "        vertical-align: middle;\n",
       "    }\n",
       "\n",
       "    .dataframe tbody tr th {\n",
       "        vertical-align: top;\n",
       "    }\n",
       "\n",
       "    .dataframe thead th {\n",
       "        text-align: right;\n",
       "    }\n",
       "</style>\n",
       "<table border=\"1\" class=\"dataframe\">\n",
       "  <thead>\n",
       "    <tr style=\"text-align: right;\">\n",
       "      <th></th>\n",
       "      <th>digit</th>\n",
       "      <th>counts</th>\n",
       "      <th>percent</th>\n",
       "      <th>benfords</th>\n",
       "      <th>diff_abs</th>\n",
       "      <th>diff_perc</th>\n",
       "    </tr>\n",
       "  </thead>\n",
       "  <tbody>\n",
       "    <tr>\n",
       "      <th>1</th>\n",
       "      <td>1</td>\n",
       "      <td>207146</td>\n",
       "      <td>32.4</td>\n",
       "      <td>30.1</td>\n",
       "      <td>2.3</td>\n",
       "      <td>7.098765</td>\n",
       "    </tr>\n",
       "    <tr>\n",
       "      <th>2</th>\n",
       "      <td>2</td>\n",
       "      <td>113084</td>\n",
       "      <td>17.7</td>\n",
       "      <td>17.6</td>\n",
       "      <td>0.1</td>\n",
       "      <td>0.564972</td>\n",
       "    </tr>\n",
       "    <tr>\n",
       "      <th>3</th>\n",
       "      <td>3</td>\n",
       "      <td>76387</td>\n",
       "      <td>11.9</td>\n",
       "      <td>12.5</td>\n",
       "      <td>0.6</td>\n",
       "      <td>5.042017</td>\n",
       "    </tr>\n",
       "    <tr>\n",
       "      <th>4</th>\n",
       "      <td>4</td>\n",
       "      <td>59372</td>\n",
       "      <td>9.3</td>\n",
       "      <td>9.7</td>\n",
       "      <td>0.4</td>\n",
       "      <td>4.301075</td>\n",
       "    </tr>\n",
       "    <tr>\n",
       "      <th>5</th>\n",
       "      <td>5</td>\n",
       "      <td>48314</td>\n",
       "      <td>7.6</td>\n",
       "      <td>7.9</td>\n",
       "      <td>0.3</td>\n",
       "      <td>3.947368</td>\n",
       "    </tr>\n",
       "    <tr>\n",
       "      <th>6</th>\n",
       "      <td>6</td>\n",
       "      <td>41203</td>\n",
       "      <td>6.4</td>\n",
       "      <td>6.7</td>\n",
       "      <td>0.3</td>\n",
       "      <td>4.687500</td>\n",
       "    </tr>\n",
       "    <tr>\n",
       "      <th>7</th>\n",
       "      <td>7</td>\n",
       "      <td>35586</td>\n",
       "      <td>5.6</td>\n",
       "      <td>5.8</td>\n",
       "      <td>0.2</td>\n",
       "      <td>3.571429</td>\n",
       "    </tr>\n",
       "    <tr>\n",
       "      <th>8</th>\n",
       "      <td>8</td>\n",
       "      <td>30965</td>\n",
       "      <td>4.8</td>\n",
       "      <td>5.1</td>\n",
       "      <td>0.3</td>\n",
       "      <td>6.250000</td>\n",
       "    </tr>\n",
       "    <tr>\n",
       "      <th>9</th>\n",
       "      <td>9</td>\n",
       "      <td>27500</td>\n",
       "      <td>4.3</td>\n",
       "      <td>4.6</td>\n",
       "      <td>0.3</td>\n",
       "      <td>6.976744</td>\n",
       "    </tr>\n",
       "  </tbody>\n",
       "</table>\n",
       "</div>"
      ],
      "text/plain": [
       "   digit  counts  percent  benfords  diff_abs  diff_perc\n",
       "1      1  207146     32.4      30.1       2.3   7.098765\n",
       "2      2  113084     17.7      17.6       0.1   0.564972\n",
       "3      3   76387     11.9      12.5       0.6   5.042017\n",
       "4      4   59372      9.3       9.7       0.4   4.301075\n",
       "5      5   48314      7.6       7.9       0.3   3.947368\n",
       "6      6   41203      6.4       6.7       0.3   4.687500\n",
       "7      7   35586      5.6       5.8       0.2   3.571429\n",
       "8      8   30965      4.8       5.1       0.3   6.250000\n",
       "9      9   27500      4.3       4.6       0.3   6.976744"
      ]
     },
     "execution_count": 39,
     "metadata": {},
     "output_type": "execute_result"
    }
   ],
   "source": [
    "benford_ents_df"
   ]
  },
  {
   "cell_type": "markdown",
   "metadata": {},
   "source": [
    "### Plotting Entries Results"
   ]
  },
  {
   "cell_type": "markdown",
   "metadata": {},
   "source": [
    "Time to plot the results compared with Benford's. The code block to create these plots came from Matplotlib's documentation page ([Matplotlib: Grouped bar chart with labels](https://matplotlib.org/3.1.0/gallery/lines_bars_and_markers/barchart.html))"
   ]
  },
  {
   "cell_type": "code",
   "execution_count": 40,
   "metadata": {
    "ExecuteTime": {
     "end_time": "2020-09-27T17:29:07.712495Z",
     "start_time": "2020-09-27T17:29:07.384122Z"
    }
   },
   "outputs": [
    {
     "data": {
      "image/png": "[encoded data removed]",
      "text/plain": [
       "<Figure size 864x432 with 1 Axes>"
      ]
     },
     "metadata": {
      "needs_background": "light"
     },
     "output_type": "display_data"
    }
   ],
   "source": [
    "labels = list(range(1, 10))\n",
    "observed = benford_ents_df['percent']\n",
    "benford_percents = benford_ents_df['benfords']\n",
    "\n",
    "x = np.arange(len(labels))  # the label locations\n",
    "width = 0.35  # the width of the bars\n",
    "\n",
    "fig, ax = plt.subplots(figsize=(12, 6))\n",
    "rects1 = ax.bar(x - width/2, observed, width, label='Observed (%)', alpha=0.5)\n",
    "rects2 = ax.bar(x + width/2, benford_percents, width, label=\"Benford's Law (%)\", color='red', alpha=0.5)\n",
    "\n",
    "# Add some text for labels, title and custom x-axis tick labels, etc.\n",
    "ax.set_ylabel('Frequency (%)', fontsize=14)\n",
    "ax.set_xlabel('Leading Digit', fontsize=14)\n",
    "ax.set_title(\"Benford's Law: Entries\", fontsize=18)\n",
    "ax.set_xticks(x)\n",
    "ax.set_xticklabels(labels)\n",
    "ax.set_ylim(0, 35)\n",
    "ax.legend(fontsize=12)\n",
    "\n",
    "\n",
    "def autolabel(rects):\n",
    "    \"\"\"Attach a text label above each bar in *rects*, displaying its height.\"\"\"\n",
    "    for rect in rects:\n",
    "        height = rect.get_height()\n",
    "        ax.annotate('{}'.format(height),\n",
    "                    xy=(rect.get_x() + rect.get_width() / 2, height),\n",
    "                    xytext=(0, 3),  # 3 points vertical offset\n",
    "                    textcoords=\"offset points\",\n",
    "                    ha='center', va='bottom')\n",
    "\n",
    "\n",
    "autolabel(rects1)\n",
    "autolabel(rects2)\n",
    "\n",
    "fig.tight_layout()\n",
    "\n",
    "#plt.savefig('entries.png')\n",
    "plt.show();"
   ]
  },
  {
   "cell_type": "markdown",
   "metadata": {},
   "source": [
    "This is almost spot on! \n",
    "\n",
    "Next I'll look at exits."
   ]
  },
  {
   "cell_type": "markdown",
   "metadata": {},
   "source": [
    "## Benford's Law Test: Exits"
   ]
  },
  {
   "cell_type": "markdown",
   "metadata": {},
   "source": [
    "### Setting up the Exits DataFrame"
   ]
  },
  {
   "cell_type": "code",
   "execution_count": 41,
   "metadata": {
    "ExecuteTime": {
     "end_time": "2020-09-27T17:29:07.773714Z",
     "start_time": "2020-09-27T17:29:07.714783Z"
    }
   },
   "outputs": [
    {
     "data": {
      "text/html": [
       "<div>\n",
       "<style scoped>\n",
       "    .dataframe tbody tr th:only-of-type {\n",
       "        vertical-align: middle;\n",
       "    }\n",
       "\n",
       "    .dataframe tbody tr th {\n",
       "        vertical-align: top;\n",
       "    }\n",
       "\n",
       "    .dataframe thead th {\n",
       "        text-align: right;\n",
       "    }\n",
       "</style>\n",
       "<table border=\"1\" class=\"dataframe\">\n",
       "  <thead>\n",
       "    <tr style=\"text-align: right;\">\n",
       "      <th></th>\n",
       "      <th>station</th>\n",
       "      <th>date</th>\n",
       "      <th>time</th>\n",
       "      <th>timestamp</th>\n",
       "      <th>weekday</th>\n",
       "      <th>weekday_num</th>\n",
       "      <th>ex_dig</th>\n",
       "    </tr>\n",
       "  </thead>\n",
       "  <tbody>\n",
       "    <tr>\n",
       "      <th>1</th>\n",
       "      <td>1 AV</td>\n",
       "      <td>2020-08-29</td>\n",
       "      <td>04:00:00</td>\n",
       "      <td>2020-08-29 04:00:00</td>\n",
       "      <td>Saturday</td>\n",
       "      <td>5</td>\n",
       "      <td>1</td>\n",
       "    </tr>\n",
       "    <tr>\n",
       "      <th>2</th>\n",
       "      <td>1 AV</td>\n",
       "      <td>2020-08-29</td>\n",
       "      <td>08:00:00</td>\n",
       "      <td>2020-08-29 08:00:00</td>\n",
       "      <td>Saturday</td>\n",
       "      <td>5</td>\n",
       "      <td>1</td>\n",
       "    </tr>\n",
       "    <tr>\n",
       "      <th>3</th>\n",
       "      <td>1 AV</td>\n",
       "      <td>2020-08-29</td>\n",
       "      <td>12:00:00</td>\n",
       "      <td>2020-08-29 12:00:00</td>\n",
       "      <td>Saturday</td>\n",
       "      <td>5</td>\n",
       "      <td>2</td>\n",
       "    </tr>\n",
       "  </tbody>\n",
       "</table>\n",
       "</div>"
      ],
      "text/plain": [
       "  station       date      time           timestamp   weekday  weekday_num  \\\n",
       "1    1 AV 2020-08-29  04:00:00 2020-08-29 04:00:00  Saturday            5   \n",
       "2    1 AV 2020-08-29  08:00:00 2020-08-29 08:00:00  Saturday            5   \n",
       "3    1 AV 2020-08-29  12:00:00 2020-08-29 12:00:00  Saturday            5   \n",
       "\n",
       "   ex_dig  \n",
       "1       1  \n",
       "2       1  \n",
       "3       2  "
      ]
     },
     "execution_count": 41,
     "metadata": {},
     "output_type": "execute_result"
    }
   ],
   "source": [
    "benford_exits = benford_exits[['station', 'date', 'time', 'timestamp', 'weekday', 'weekday_num', 'ex_dig']]\n",
    "benford_exits.head(3)"
   ]
  },
  {
   "cell_type": "code",
   "execution_count": 42,
   "metadata": {
    "ExecuteTime": {
     "end_time": "2020-09-27T17:29:07.788137Z",
     "start_time": "2020-09-27T17:29:07.775609Z"
    }
   },
   "outputs": [
    {
     "data": {
      "text/html": [
       "<div>\n",
       "<style scoped>\n",
       "    .dataframe tbody tr th:only-of-type {\n",
       "        vertical-align: middle;\n",
       "    }\n",
       "\n",
       "    .dataframe tbody tr th {\n",
       "        vertical-align: top;\n",
       "    }\n",
       "\n",
       "    .dataframe thead th {\n",
       "        text-align: right;\n",
       "    }\n",
       "</style>\n",
       "<table border=\"1\" class=\"dataframe\">\n",
       "  <thead>\n",
       "    <tr style=\"text-align: right;\">\n",
       "      <th></th>\n",
       "      <th>digit</th>\n",
       "      <th>counts</th>\n",
       "    </tr>\n",
       "  </thead>\n",
       "  <tbody>\n",
       "    <tr>\n",
       "      <th>1</th>\n",
       "      <td>1</td>\n",
       "      <td>212253</td>\n",
       "    </tr>\n",
       "    <tr>\n",
       "      <th>2</th>\n",
       "      <td>2</td>\n",
       "      <td>119059</td>\n",
       "    </tr>\n",
       "    <tr>\n",
       "      <th>3</th>\n",
       "      <td>3</td>\n",
       "      <td>84402</td>\n",
       "    </tr>\n",
       "    <tr>\n",
       "      <th>4</th>\n",
       "      <td>4</td>\n",
       "      <td>64321</td>\n",
       "    </tr>\n",
       "    <tr>\n",
       "      <th>5</th>\n",
       "      <td>5</td>\n",
       "      <td>52462</td>\n",
       "    </tr>\n",
       "    <tr>\n",
       "      <th>6</th>\n",
       "      <td>6</td>\n",
       "      <td>44039</td>\n",
       "    </tr>\n",
       "    <tr>\n",
       "      <th>7</th>\n",
       "      <td>7</td>\n",
       "      <td>37653</td>\n",
       "    </tr>\n",
       "    <tr>\n",
       "      <th>8</th>\n",
       "      <td>8</td>\n",
       "      <td>33093</td>\n",
       "    </tr>\n",
       "    <tr>\n",
       "      <th>9</th>\n",
       "      <td>9</td>\n",
       "      <td>29295</td>\n",
       "    </tr>\n",
       "  </tbody>\n",
       "</table>\n",
       "</div>"
      ],
      "text/plain": [
       "   digit  counts\n",
       "1      1  212253\n",
       "2      2  119059\n",
       "3      3   84402\n",
       "4      4   64321\n",
       "5      5   52462\n",
       "6      6   44039\n",
       "7      7   37653\n",
       "8      8   33093\n",
       "9      9   29295"
      ]
     },
     "execution_count": 42,
     "metadata": {},
     "output_type": "execute_result"
    }
   ],
   "source": [
    "nums = list(range(1, 10))\n",
    "benford_exits_count = list(benford_exits.ex_dig.value_counts())\n",
    "benford_exits_df = pd.DataFrame({'digit': nums, \n",
    "                              'counts': benford_exits_count}, index=nums)\n",
    "benford_exits_df"
   ]
  },
  {
   "cell_type": "code",
   "execution_count": 43,
   "metadata": {
    "ExecuteTime": {
     "end_time": "2020-09-27T17:29:07.793269Z",
     "start_time": "2020-09-27T17:29:07.789911Z"
    }
   },
   "outputs": [
    {
     "data": {
      "text/plain": [
       "676577"
      ]
     },
     "execution_count": 43,
     "metadata": {},
     "output_type": "execute_result"
    }
   ],
   "source": [
    "total_exits = benford_exits_df.counts.sum()\n",
    "total_exits"
   ]
  },
  {
   "cell_type": "code",
   "execution_count": 44,
   "metadata": {
    "ExecuteTime": {
     "end_time": "2020-09-27T17:29:07.800295Z",
     "start_time": "2020-09-27T17:29:07.794675Z"
    }
   },
   "outputs": [],
   "source": [
    "# Creating % Frequency Column\n",
    "benford_exits_df['percent'] = benford_exits_df['counts'].apply(lambda x: (x / total_entries) * 100).round(decimals=1)\n",
    "\n",
    "# Adding Benford's Law %s, and some calculation columns to see the difference\n",
    "benford_exits_df['benfords'] = benfords['percent']\n",
    "benford_exits_df['diff_abs'] = (benford_exits_df['percent'] - benford_exits_df['benfords']).abs()\n",
    "benford_exits_df['diff_perc'] = (benford_exits_df['diff_abs'] / benford_exits_df['percent']) * 100"
   ]
  },
  {
   "cell_type": "code",
   "execution_count": 45,
   "metadata": {
    "ExecuteTime": {
     "end_time": "2020-09-27T17:29:07.810405Z",
     "start_time": "2020-09-27T17:29:07.801908Z"
    }
   },
   "outputs": [
    {
     "data": {
      "text/html": [
       "<div>\n",
       "<style scoped>\n",
       "    .dataframe tbody tr th:only-of-type {\n",
       "        vertical-align: middle;\n",
       "    }\n",
       "\n",
       "    .dataframe tbody tr th {\n",
       "        vertical-align: top;\n",
       "    }\n",
       "\n",
       "    .dataframe thead th {\n",
       "        text-align: right;\n",
       "    }\n",
       "</style>\n",
       "<table border=\"1\" class=\"dataframe\">\n",
       "  <thead>\n",
       "    <tr style=\"text-align: right;\">\n",
       "      <th></th>\n",
       "      <th>digit</th>\n",
       "      <th>counts</th>\n",
       "      <th>percent</th>\n",
       "      <th>benfords</th>\n",
       "      <th>diff_abs</th>\n",
       "      <th>diff_perc</th>\n",
       "    </tr>\n",
       "  </thead>\n",
       "  <tbody>\n",
       "    <tr>\n",
       "      <th>1</th>\n",
       "      <td>1</td>\n",
       "      <td>212253</td>\n",
       "      <td>33.2</td>\n",
       "      <td>30.1</td>\n",
       "      <td>3.1</td>\n",
       "      <td>9.337349</td>\n",
       "    </tr>\n",
       "    <tr>\n",
       "      <th>2</th>\n",
       "      <td>2</td>\n",
       "      <td>119059</td>\n",
       "      <td>18.6</td>\n",
       "      <td>17.6</td>\n",
       "      <td>1.0</td>\n",
       "      <td>5.376344</td>\n",
       "    </tr>\n",
       "    <tr>\n",
       "      <th>3</th>\n",
       "      <td>3</td>\n",
       "      <td>84402</td>\n",
       "      <td>13.2</td>\n",
       "      <td>12.5</td>\n",
       "      <td>0.7</td>\n",
       "      <td>5.303030</td>\n",
       "    </tr>\n",
       "    <tr>\n",
       "      <th>4</th>\n",
       "      <td>4</td>\n",
       "      <td>64321</td>\n",
       "      <td>10.1</td>\n",
       "      <td>9.7</td>\n",
       "      <td>0.4</td>\n",
       "      <td>3.960396</td>\n",
       "    </tr>\n",
       "    <tr>\n",
       "      <th>5</th>\n",
       "      <td>5</td>\n",
       "      <td>52462</td>\n",
       "      <td>8.2</td>\n",
       "      <td>7.9</td>\n",
       "      <td>0.3</td>\n",
       "      <td>3.658537</td>\n",
       "    </tr>\n",
       "    <tr>\n",
       "      <th>6</th>\n",
       "      <td>6</td>\n",
       "      <td>44039</td>\n",
       "      <td>6.9</td>\n",
       "      <td>6.7</td>\n",
       "      <td>0.2</td>\n",
       "      <td>2.898551</td>\n",
       "    </tr>\n",
       "    <tr>\n",
       "      <th>7</th>\n",
       "      <td>7</td>\n",
       "      <td>37653</td>\n",
       "      <td>5.9</td>\n",
       "      <td>5.8</td>\n",
       "      <td>0.1</td>\n",
       "      <td>1.694915</td>\n",
       "    </tr>\n",
       "    <tr>\n",
       "      <th>8</th>\n",
       "      <td>8</td>\n",
       "      <td>33093</td>\n",
       "      <td>5.2</td>\n",
       "      <td>5.1</td>\n",
       "      <td>0.1</td>\n",
       "      <td>1.923077</td>\n",
       "    </tr>\n",
       "    <tr>\n",
       "      <th>9</th>\n",
       "      <td>9</td>\n",
       "      <td>29295</td>\n",
       "      <td>4.6</td>\n",
       "      <td>4.6</td>\n",
       "      <td>0.0</td>\n",
       "      <td>0.000000</td>\n",
       "    </tr>\n",
       "  </tbody>\n",
       "</table>\n",
       "</div>"
      ],
      "text/plain": [
       "   digit  counts  percent  benfords  diff_abs  diff_perc\n",
       "1      1  212253     33.2      30.1       3.1   9.337349\n",
       "2      2  119059     18.6      17.6       1.0   5.376344\n",
       "3      3   84402     13.2      12.5       0.7   5.303030\n",
       "4      4   64321     10.1       9.7       0.4   3.960396\n",
       "5      5   52462      8.2       7.9       0.3   3.658537\n",
       "6      6   44039      6.9       6.7       0.2   2.898551\n",
       "7      7   37653      5.9       5.8       0.1   1.694915\n",
       "8      8   33093      5.2       5.1       0.1   1.923077\n",
       "9      9   29295      4.6       4.6       0.0   0.000000"
      ]
     },
     "execution_count": 45,
     "metadata": {},
     "output_type": "execute_result"
    }
   ],
   "source": [
    "benford_exits_df"
   ]
  },
  {
   "cell_type": "markdown",
   "metadata": {},
   "source": [
    "### Plotting Exits Results"
   ]
  },
  {
   "cell_type": "code",
   "execution_count": 46,
   "metadata": {
    "ExecuteTime": {
     "end_time": "2020-09-27T17:29:08.142662Z",
     "start_time": "2020-09-27T17:29:07.812007Z"
    }
   },
   "outputs": [
    {
     "data": {
      "image/png": "[encoded data removed]",
      "text/plain": [
       "<Figure size 864x432 with 1 Axes>"
      ]
     },
     "metadata": {
      "needs_background": "light"
     },
     "output_type": "display_data"
    }
   ],
   "source": [
    "labels = list(range(1, 10))\n",
    "observed = benford_exits_df['percent']\n",
    "benford_percents = benford_exits_df['benfords']\n",
    "\n",
    "x = np.arange(len(labels))  # the label locations\n",
    "width = 0.35  # the width of the bars\n",
    "\n",
    "fig, ax = plt.subplots(figsize=(12, 6))\n",
    "rects1 = ax.bar(x - width/2, observed, width, label='Observed (%)', alpha=0.5)\n",
    "rects2 = ax.bar(x + width/2, benford_percents, width, label=\"Benford's Law (%)\", color='red', alpha=0.5)\n",
    "\n",
    "# Add some text for labels, title and custom x-axis tick labels, etc.\n",
    "ax.set_ylabel('Frequency (%)', fontsize=14)\n",
    "ax.set_xlabel('Leading Digit', fontsize=14)\n",
    "ax.set_title(\"Benford's Law: Exits\", fontsize=18)\n",
    "ax.set_xticks(x)\n",
    "ax.set_xticklabels(labels)\n",
    "ax.set_ylim(0, 35)\n",
    "ax.legend(fontsize=12)\n",
    "\n",
    "\n",
    "def autolabel(rects):\n",
    "    \"\"\"Attach a text label above each bar in *rects*, displaying its height.\"\"\"\n",
    "    for rect in rects:\n",
    "        height = rect.get_height()\n",
    "        ax.annotate('{}'.format(height),\n",
    "                    xy=(rect.get_x() + rect.get_width() / 2, height),\n",
    "                    xytext=(0, 3),  # 3 points vertical offset\n",
    "                    textcoords=\"offset points\",\n",
    "                    ha='center', va='bottom')\n",
    "\n",
    "\n",
    "autolabel(rects1)\n",
    "autolabel(rects2)\n",
    "\n",
    "fig.tight_layout()\n",
    "\n",
    "#plt.savefig('exits.png')\n",
    "plt.show();"
   ]
  },
  {
   "cell_type": "markdown",
   "metadata": {},
   "source": [
    "Exits are also very *Benfordy*. \n",
    "\n",
    "Onto total traffic for these turnstiles: `entries + exits`"
   ]
  },
  {
   "cell_type": "markdown",
   "metadata": {},
   "source": [
    "## Benford's Law Test: Total"
   ]
  },
  {
   "cell_type": "markdown",
   "metadata": {},
   "source": [
    "### Setting up the Total DataFrame"
   ]
  },
  {
   "cell_type": "code",
   "execution_count": 47,
   "metadata": {
    "ExecuteTime": {
     "end_time": "2020-09-27T17:29:08.202073Z",
     "start_time": "2020-09-27T17:29:08.144600Z"
    }
   },
   "outputs": [
    {
     "data": {
      "text/html": [
       "<div>\n",
       "<style scoped>\n",
       "    .dataframe tbody tr th:only-of-type {\n",
       "        vertical-align: middle;\n",
       "    }\n",
       "\n",
       "    .dataframe tbody tr th {\n",
       "        vertical-align: top;\n",
       "    }\n",
       "\n",
       "    .dataframe thead th {\n",
       "        text-align: right;\n",
       "    }\n",
       "</style>\n",
       "<table border=\"1\" class=\"dataframe\">\n",
       "  <thead>\n",
       "    <tr style=\"text-align: right;\">\n",
       "      <th></th>\n",
       "      <th>station</th>\n",
       "      <th>date</th>\n",
       "      <th>time</th>\n",
       "      <th>timestamp</th>\n",
       "      <th>weekday</th>\n",
       "      <th>weekday_num</th>\n",
       "      <th>total_dig</th>\n",
       "    </tr>\n",
       "  </thead>\n",
       "  <tbody>\n",
       "    <tr>\n",
       "      <th>1</th>\n",
       "      <td>1 AV</td>\n",
       "      <td>2020-08-29</td>\n",
       "      <td>04:00:00</td>\n",
       "      <td>2020-08-29 04:00:00</td>\n",
       "      <td>Saturday</td>\n",
       "      <td>5</td>\n",
       "      <td>1</td>\n",
       "    </tr>\n",
       "    <tr>\n",
       "      <th>2</th>\n",
       "      <td>1 AV</td>\n",
       "      <td>2020-08-29</td>\n",
       "      <td>08:00:00</td>\n",
       "      <td>2020-08-29 08:00:00</td>\n",
       "      <td>Saturday</td>\n",
       "      <td>5</td>\n",
       "      <td>1</td>\n",
       "    </tr>\n",
       "    <tr>\n",
       "      <th>3</th>\n",
       "      <td>1 AV</td>\n",
       "      <td>2020-08-29</td>\n",
       "      <td>12:00:00</td>\n",
       "      <td>2020-08-29 12:00:00</td>\n",
       "      <td>Saturday</td>\n",
       "      <td>5</td>\n",
       "      <td>2</td>\n",
       "    </tr>\n",
       "  </tbody>\n",
       "</table>\n",
       "</div>"
      ],
      "text/plain": [
       "  station       date      time           timestamp   weekday  weekday_num  \\\n",
       "1    1 AV 2020-08-29  04:00:00 2020-08-29 04:00:00  Saturday            5   \n",
       "2    1 AV 2020-08-29  08:00:00 2020-08-29 08:00:00  Saturday            5   \n",
       "3    1 AV 2020-08-29  12:00:00 2020-08-29 12:00:00  Saturday            5   \n",
       "\n",
       "   total_dig  \n",
       "1          1  \n",
       "2          1  \n",
       "3          2  "
      ]
     },
     "execution_count": 47,
     "metadata": {},
     "output_type": "execute_result"
    }
   ],
   "source": [
    "benford_total = benford_total[['station', 'date', 'time', 'timestamp', 'weekday', 'weekday_num', 'total_dig']]\n",
    "benford_total.head(3)"
   ]
  },
  {
   "cell_type": "code",
   "execution_count": 48,
   "metadata": {
    "ExecuteTime": {
     "end_time": "2020-09-27T17:29:08.218260Z",
     "start_time": "2020-09-27T17:29:08.203928Z"
    }
   },
   "outputs": [
    {
     "data": {
      "text/html": [
       "<div>\n",
       "<style scoped>\n",
       "    .dataframe tbody tr th:only-of-type {\n",
       "        vertical-align: middle;\n",
       "    }\n",
       "\n",
       "    .dataframe tbody tr th {\n",
       "        vertical-align: top;\n",
       "    }\n",
       "\n",
       "    .dataframe thead th {\n",
       "        text-align: right;\n",
       "    }\n",
       "</style>\n",
       "<table border=\"1\" class=\"dataframe\">\n",
       "  <thead>\n",
       "    <tr style=\"text-align: right;\">\n",
       "      <th></th>\n",
       "      <th>digit</th>\n",
       "      <th>counts</th>\n",
       "    </tr>\n",
       "  </thead>\n",
       "  <tbody>\n",
       "    <tr>\n",
       "      <th>1</th>\n",
       "      <td>1</td>\n",
       "      <td>229298</td>\n",
       "    </tr>\n",
       "    <tr>\n",
       "      <th>2</th>\n",
       "      <td>2</td>\n",
       "      <td>129446</td>\n",
       "    </tr>\n",
       "    <tr>\n",
       "      <th>3</th>\n",
       "      <td>3</td>\n",
       "      <td>85001</td>\n",
       "    </tr>\n",
       "    <tr>\n",
       "      <th>4</th>\n",
       "      <td>4</td>\n",
       "      <td>62491</td>\n",
       "    </tr>\n",
       "    <tr>\n",
       "      <th>5</th>\n",
       "      <td>5</td>\n",
       "      <td>50722</td>\n",
       "    </tr>\n",
       "    <tr>\n",
       "      <th>6</th>\n",
       "      <td>6</td>\n",
       "      <td>42950</td>\n",
       "    </tr>\n",
       "    <tr>\n",
       "      <th>7</th>\n",
       "      <td>7</td>\n",
       "      <td>37620</td>\n",
       "    </tr>\n",
       "    <tr>\n",
       "      <th>8</th>\n",
       "      <td>8</td>\n",
       "      <td>33791</td>\n",
       "    </tr>\n",
       "    <tr>\n",
       "      <th>9</th>\n",
       "      <td>9</td>\n",
       "      <td>31080</td>\n",
       "    </tr>\n",
       "  </tbody>\n",
       "</table>\n",
       "</div>"
      ],
      "text/plain": [
       "   digit  counts\n",
       "1      1  229298\n",
       "2      2  129446\n",
       "3      3   85001\n",
       "4      4   62491\n",
       "5      5   50722\n",
       "6      6   42950\n",
       "7      7   37620\n",
       "8      8   33791\n",
       "9      9   31080"
      ]
     },
     "execution_count": 48,
     "metadata": {},
     "output_type": "execute_result"
    }
   ],
   "source": [
    "nums = list(range(1, 10))\n",
    "benford_total_count = list(benford_total.total_dig.value_counts())\n",
    "benford_total_df = pd.DataFrame({'digit': nums, \n",
    "                              'counts': benford_total_count}, index=nums)\n",
    "benford_total_df"
   ]
  },
  {
   "cell_type": "code",
   "execution_count": 49,
   "metadata": {
    "ExecuteTime": {
     "end_time": "2020-09-27T17:29:08.223504Z",
     "start_time": "2020-09-27T17:29:08.219963Z"
    }
   },
   "outputs": [
    {
     "data": {
      "text/plain": [
       "702399"
      ]
     },
     "execution_count": 49,
     "metadata": {},
     "output_type": "execute_result"
    }
   ],
   "source": [
    "total_total = benford_total_df.counts.sum()\n",
    "total_total"
   ]
  },
  {
   "cell_type": "code",
   "execution_count": 50,
   "metadata": {
    "ExecuteTime": {
     "end_time": "2020-09-27T17:29:08.230746Z",
     "start_time": "2020-09-27T17:29:08.225062Z"
    }
   },
   "outputs": [],
   "source": [
    "# Creating % Frequency Column\n",
    "benford_total_df['percent'] = benford_total_df['counts'].apply(lambda x: (x / total_entries) * 100).round(decimals=1)\n",
    "\n",
    "# Adding Benford's Law %s, and some calculation columns to see the difference\n",
    "benford_total_df['benfords'] = benfords['percent']\n",
    "benford_total_df['diff_abs'] = (benford_total_df['percent'] - benford_total_df['benfords']).abs()\n",
    "benford_total_df['diff_perc'] = (benford_total_df['diff_abs'] / benford_total_df['percent']) * 100"
   ]
  },
  {
   "cell_type": "code",
   "execution_count": 51,
   "metadata": {
    "ExecuteTime": {
     "end_time": "2020-09-27T17:29:08.241238Z",
     "start_time": "2020-09-27T17:29:08.232391Z"
    }
   },
   "outputs": [
    {
     "data": {
      "text/html": [
       "<div>\n",
       "<style scoped>\n",
       "    .dataframe tbody tr th:only-of-type {\n",
       "        vertical-align: middle;\n",
       "    }\n",
       "\n",
       "    .dataframe tbody tr th {\n",
       "        vertical-align: top;\n",
       "    }\n",
       "\n",
       "    .dataframe thead th {\n",
       "        text-align: right;\n",
       "    }\n",
       "</style>\n",
       "<table border=\"1\" class=\"dataframe\">\n",
       "  <thead>\n",
       "    <tr style=\"text-align: right;\">\n",
       "      <th></th>\n",
       "      <th>digit</th>\n",
       "      <th>counts</th>\n",
       "      <th>percent</th>\n",
       "      <th>benfords</th>\n",
       "      <th>diff_abs</th>\n",
       "      <th>diff_perc</th>\n",
       "    </tr>\n",
       "  </thead>\n",
       "  <tbody>\n",
       "    <tr>\n",
       "      <th>1</th>\n",
       "      <td>1</td>\n",
       "      <td>229298</td>\n",
       "      <td>35.9</td>\n",
       "      <td>30.1</td>\n",
       "      <td>5.8</td>\n",
       "      <td>16.155989</td>\n",
       "    </tr>\n",
       "    <tr>\n",
       "      <th>2</th>\n",
       "      <td>2</td>\n",
       "      <td>129446</td>\n",
       "      <td>20.2</td>\n",
       "      <td>17.6</td>\n",
       "      <td>2.6</td>\n",
       "      <td>12.871287</td>\n",
       "    </tr>\n",
       "    <tr>\n",
       "      <th>3</th>\n",
       "      <td>3</td>\n",
       "      <td>85001</td>\n",
       "      <td>13.3</td>\n",
       "      <td>12.5</td>\n",
       "      <td>0.8</td>\n",
       "      <td>6.015038</td>\n",
       "    </tr>\n",
       "    <tr>\n",
       "      <th>4</th>\n",
       "      <td>4</td>\n",
       "      <td>62491</td>\n",
       "      <td>9.8</td>\n",
       "      <td>9.7</td>\n",
       "      <td>0.1</td>\n",
       "      <td>1.020408</td>\n",
       "    </tr>\n",
       "    <tr>\n",
       "      <th>5</th>\n",
       "      <td>5</td>\n",
       "      <td>50722</td>\n",
       "      <td>7.9</td>\n",
       "      <td>7.9</td>\n",
       "      <td>0.0</td>\n",
       "      <td>0.000000</td>\n",
       "    </tr>\n",
       "    <tr>\n",
       "      <th>6</th>\n",
       "      <td>6</td>\n",
       "      <td>42950</td>\n",
       "      <td>6.7</td>\n",
       "      <td>6.7</td>\n",
       "      <td>0.0</td>\n",
       "      <td>0.000000</td>\n",
       "    </tr>\n",
       "    <tr>\n",
       "      <th>7</th>\n",
       "      <td>7</td>\n",
       "      <td>37620</td>\n",
       "      <td>5.9</td>\n",
       "      <td>5.8</td>\n",
       "      <td>0.1</td>\n",
       "      <td>1.694915</td>\n",
       "    </tr>\n",
       "    <tr>\n",
       "      <th>8</th>\n",
       "      <td>8</td>\n",
       "      <td>33791</td>\n",
       "      <td>5.3</td>\n",
       "      <td>5.1</td>\n",
       "      <td>0.2</td>\n",
       "      <td>3.773585</td>\n",
       "    </tr>\n",
       "    <tr>\n",
       "      <th>9</th>\n",
       "      <td>9</td>\n",
       "      <td>31080</td>\n",
       "      <td>4.9</td>\n",
       "      <td>4.6</td>\n",
       "      <td>0.3</td>\n",
       "      <td>6.122449</td>\n",
       "    </tr>\n",
       "  </tbody>\n",
       "</table>\n",
       "</div>"
      ],
      "text/plain": [
       "   digit  counts  percent  benfords  diff_abs  diff_perc\n",
       "1      1  229298     35.9      30.1       5.8  16.155989\n",
       "2      2  129446     20.2      17.6       2.6  12.871287\n",
       "3      3   85001     13.3      12.5       0.8   6.015038\n",
       "4      4   62491      9.8       9.7       0.1   1.020408\n",
       "5      5   50722      7.9       7.9       0.0   0.000000\n",
       "6      6   42950      6.7       6.7       0.0   0.000000\n",
       "7      7   37620      5.9       5.8       0.1   1.694915\n",
       "8      8   33791      5.3       5.1       0.2   3.773585\n",
       "9      9   31080      4.9       4.6       0.3   6.122449"
      ]
     },
     "execution_count": 51,
     "metadata": {},
     "output_type": "execute_result"
    }
   ],
   "source": [
    "benford_total_df"
   ]
  },
  {
   "cell_type": "markdown",
   "metadata": {},
   "source": [
    "### Plotting the Results"
   ]
  },
  {
   "cell_type": "code",
   "execution_count": 52,
   "metadata": {
    "ExecuteTime": {
     "end_time": "2020-09-27T17:29:08.571443Z",
     "start_time": "2020-09-27T17:29:08.242773Z"
    }
   },
   "outputs": [
    {
     "data": {
      "image/png": "[encoded data removed]",
      "text/plain": [
       "<Figure size 864x432 with 1 Axes>"
      ]
     },
     "metadata": {
      "needs_background": "light"
     },
     "output_type": "display_data"
    }
   ],
   "source": [
    "labels = list(range(1, 10))\n",
    "observed = benford_total_df['percent']\n",
    "benford_percents = benford_total_df['benfords']\n",
    "\n",
    "x = np.arange(len(labels))  # the label locations\n",
    "width = 0.35  # the width of the bars\n",
    "\n",
    "fig, ax = plt.subplots(figsize=(12, 6))\n",
    "rects1 = ax.bar(x - width/2, observed, width, label='Observed (%)', alpha=0.5)\n",
    "rects2 = ax.bar(x + width/2, benford_percents, width, label=\"Benford's Law (%)\", color='red', alpha=0.5)\n",
    "\n",
    "# Add some text for labels, title and custom x-axis tick labels, etc.\n",
    "ax.set_ylabel('Frequency (%)', fontsize=14)\n",
    "ax.set_xlabel('Leading Digit', fontsize=14)\n",
    "ax.set_title(\"Benford's Law: Entries + Exits\", fontsize=18)\n",
    "ax.set_xticks(x)\n",
    "ax.set_xticklabels(labels)\n",
    "ax.set_ylim(0, 40)\n",
    "ax.legend(fontsize=12)\n",
    "\n",
    "\n",
    "def autolabel(rects):\n",
    "    \"\"\"Attach a text label above each bar in *rects*, displaying its height.\"\"\"\n",
    "    for rect in rects:\n",
    "        height = rect.get_height()\n",
    "        ax.annotate('{}'.format(height),\n",
    "                    xy=(rect.get_x() + rect.get_width() / 2, height),\n",
    "                    xytext=(0, 3),  # 3 points vertical offset\n",
    "                    textcoords=\"offset points\",\n",
    "                    ha='center', va='bottom')\n",
    "\n",
    "\n",
    "autolabel(rects1)\n",
    "autolabel(rects2)\n",
    "\n",
    "fig.tight_layout()\n",
    "\n",
    "#plt.savefig('total.png')\n",
    "plt.show();"
   ]
  },
  {
   "cell_type": "markdown",
   "metadata": {},
   "source": [
    "The frequency of leading 1's and 2's start to drift away from Benford's, but the curve is the same shape and we still don't see any larger leading digits with higher frequencies than smaller leading digits. I'd say this is still pretty *Benfordy*."
   ]
  },
  {
   "cell_type": "markdown",
   "metadata": {},
   "source": [
    "## Station Comparison: Time Square - 42nd St <> Prospect Av"
   ]
  },
  {
   "cell_type": "markdown",
   "metadata": {},
   "source": [
    "Now I'll take a look at a couple individual stations. I've chosen two very different stations in terms of their activity levels: \n",
    "* Times Square - 42nd Street Station \n",
    "* Prospect Av (in Brooklyn)\n",
    "\n",
    "The main idea for these two is to determine whether large stations with tons of traffic are biasing the data. So we'll take the ultimate high-traffic Manhattan station and compare to a smaller, neighborhoody station in Brooklyn."
   ]
  },
  {
   "cell_type": "markdown",
   "metadata": {},
   "source": [
    "### Time Square - 42nd Street Station"
   ]
  },
  {
   "cell_type": "markdown",
   "metadata": {},
   "source": [
    "#### Setting up the Total DataFrame"
   ]
  },
  {
   "cell_type": "code",
   "execution_count": 53,
   "metadata": {
    "ExecuteTime": {
     "end_time": "2020-09-27T17:29:08.633372Z",
     "start_time": "2020-09-27T17:29:08.573532Z"
    }
   },
   "outputs": [
    {
     "data": {
      "text/html": [
       "<div>\n",
       "<style scoped>\n",
       "    .dataframe tbody tr th:only-of-type {\n",
       "        vertical-align: middle;\n",
       "    }\n",
       "\n",
       "    .dataframe tbody tr th {\n",
       "        vertical-align: top;\n",
       "    }\n",
       "\n",
       "    .dataframe thead th {\n",
       "        text-align: right;\n",
       "    }\n",
       "</style>\n",
       "<table border=\"1\" class=\"dataframe\">\n",
       "  <thead>\n",
       "    <tr style=\"text-align: right;\">\n",
       "      <th></th>\n",
       "      <th>station</th>\n",
       "      <th>ca</th>\n",
       "      <th>unit</th>\n",
       "      <th>scp</th>\n",
       "      <th>linename</th>\n",
       "      <th>division</th>\n",
       "      <th>date</th>\n",
       "      <th>time</th>\n",
       "      <th>timestamp</th>\n",
       "      <th>weekday</th>\n",
       "      <th>weekday_num</th>\n",
       "      <th>entries</th>\n",
       "      <th>exits</th>\n",
       "      <th>total</th>\n",
       "      <th>ent_dig</th>\n",
       "      <th>ex_dig</th>\n",
       "      <th>total_dig</th>\n",
       "    </tr>\n",
       "  </thead>\n",
       "  <tbody>\n",
       "    <tr>\n",
       "      <th>784858</th>\n",
       "      <td>TIMES SQ-42 ST</td>\n",
       "      <td>A021</td>\n",
       "      <td>R032</td>\n",
       "      <td>01-00-00</td>\n",
       "      <td>ACENQRS1237W</td>\n",
       "      <td>BMT</td>\n",
       "      <td>2020-08-29</td>\n",
       "      <td>04:00:00</td>\n",
       "      <td>2020-08-29 04:00:00</td>\n",
       "      <td>Saturday</td>\n",
       "      <td>5</td>\n",
       "      <td>6.0</td>\n",
       "      <td>10.0</td>\n",
       "      <td>16.0</td>\n",
       "      <td>6</td>\n",
       "      <td>1</td>\n",
       "      <td>1</td>\n",
       "    </tr>\n",
       "    <tr>\n",
       "      <th>784859</th>\n",
       "      <td>TIMES SQ-42 ST</td>\n",
       "      <td>A021</td>\n",
       "      <td>R032</td>\n",
       "      <td>01-00-00</td>\n",
       "      <td>ACENQRS1237W</td>\n",
       "      <td>BMT</td>\n",
       "      <td>2020-08-29</td>\n",
       "      <td>08:00:00</td>\n",
       "      <td>2020-08-29 08:00:00</td>\n",
       "      <td>Saturday</td>\n",
       "      <td>5</td>\n",
       "      <td>18.0</td>\n",
       "      <td>58.0</td>\n",
       "      <td>76.0</td>\n",
       "      <td>1</td>\n",
       "      <td>5</td>\n",
       "      <td>7</td>\n",
       "    </tr>\n",
       "    <tr>\n",
       "      <th>784860</th>\n",
       "      <td>TIMES SQ-42 ST</td>\n",
       "      <td>A021</td>\n",
       "      <td>R032</td>\n",
       "      <td>01-00-00</td>\n",
       "      <td>ACENQRS1237W</td>\n",
       "      <td>BMT</td>\n",
       "      <td>2020-08-29</td>\n",
       "      <td>12:00:00</td>\n",
       "      <td>2020-08-29 12:00:00</td>\n",
       "      <td>Saturday</td>\n",
       "      <td>5</td>\n",
       "      <td>61.0</td>\n",
       "      <td>166.0</td>\n",
       "      <td>227.0</td>\n",
       "      <td>6</td>\n",
       "      <td>1</td>\n",
       "      <td>2</td>\n",
       "    </tr>\n",
       "  </tbody>\n",
       "</table>\n",
       "</div>"
      ],
      "text/plain": [
       "               station    ca  unit       scp      linename division  \\\n",
       "784858  TIMES SQ-42 ST  A021  R032  01-00-00  ACENQRS1237W      BMT   \n",
       "784859  TIMES SQ-42 ST  A021  R032  01-00-00  ACENQRS1237W      BMT   \n",
       "784860  TIMES SQ-42 ST  A021  R032  01-00-00  ACENQRS1237W      BMT   \n",
       "\n",
       "             date      time           timestamp   weekday  weekday_num  \\\n",
       "784858 2020-08-29  04:00:00 2020-08-29 04:00:00  Saturday            5   \n",
       "784859 2020-08-29  08:00:00 2020-08-29 08:00:00  Saturday            5   \n",
       "784860 2020-08-29  12:00:00 2020-08-29 12:00:00  Saturday            5   \n",
       "\n",
       "        entries  exits  total  ent_dig  ex_dig  total_dig  \n",
       "784858      6.0   10.0   16.0        6       1          1  \n",
       "784859     18.0   58.0   76.0        1       5          7  \n",
       "784860     61.0  166.0  227.0        6       1          2  "
      ]
     },
     "execution_count": 53,
     "metadata": {},
     "output_type": "execute_result"
    }
   ],
   "source": [
    "timessquare = mta[(mta['ent_dig'] > 0) & \n",
    "                 (mta['station'] == 'TIMES SQ-42 ST')]\n",
    "timessquare.head(3)"
   ]
  },
  {
   "cell_type": "code",
   "execution_count": 54,
   "metadata": {
    "ExecuteTime": {
     "end_time": "2020-09-27T17:29:08.650818Z",
     "start_time": "2020-09-27T17:29:08.642886Z"
    }
   },
   "outputs": [
    {
     "data": {
      "text/html": [
       "<div>\n",
       "<style scoped>\n",
       "    .dataframe tbody tr th:only-of-type {\n",
       "        vertical-align: middle;\n",
       "    }\n",
       "\n",
       "    .dataframe tbody tr th {\n",
       "        vertical-align: top;\n",
       "    }\n",
       "\n",
       "    .dataframe thead th {\n",
       "        text-align: right;\n",
       "    }\n",
       "</style>\n",
       "<table border=\"1\" class=\"dataframe\">\n",
       "  <thead>\n",
       "    <tr style=\"text-align: right;\">\n",
       "      <th></th>\n",
       "      <th>date</th>\n",
       "      <th>timestamp</th>\n",
       "      <th>weekday_num</th>\n",
       "      <th>ent_dig</th>\n",
       "    </tr>\n",
       "  </thead>\n",
       "  <tbody>\n",
       "    <tr>\n",
       "      <th>784858</th>\n",
       "      <td>2020-08-29</td>\n",
       "      <td>2020-08-29 04:00:00</td>\n",
       "      <td>5</td>\n",
       "      <td>6</td>\n",
       "    </tr>\n",
       "    <tr>\n",
       "      <th>784859</th>\n",
       "      <td>2020-08-29</td>\n",
       "      <td>2020-08-29 08:00:00</td>\n",
       "      <td>5</td>\n",
       "      <td>1</td>\n",
       "    </tr>\n",
       "    <tr>\n",
       "      <th>784860</th>\n",
       "      <td>2020-08-29</td>\n",
       "      <td>2020-08-29 12:00:00</td>\n",
       "      <td>5</td>\n",
       "      <td>6</td>\n",
       "    </tr>\n",
       "  </tbody>\n",
       "</table>\n",
       "</div>"
      ],
      "text/plain": [
       "             date           timestamp  weekday_num  ent_dig\n",
       "784858 2020-08-29 2020-08-29 04:00:00            5        6\n",
       "784859 2020-08-29 2020-08-29 08:00:00            5        1\n",
       "784860 2020-08-29 2020-08-29 12:00:00            5        6"
      ]
     },
     "execution_count": 54,
     "metadata": {},
     "output_type": "execute_result"
    }
   ],
   "source": [
    "timessquare = timessquare[['date', 'timestamp', 'weekday_num', 'ent_dig']]\n",
    "timessquare.head(3)"
   ]
  },
  {
   "cell_type": "code",
   "execution_count": 55,
   "metadata": {
    "ExecuteTime": {
     "end_time": "2020-09-27T17:29:08.660643Z",
     "start_time": "2020-09-27T17:29:08.653114Z"
    }
   },
   "outputs": [
    {
     "data": {
      "text/html": [
       "<div>\n",
       "<style scoped>\n",
       "    .dataframe tbody tr th:only-of-type {\n",
       "        vertical-align: middle;\n",
       "    }\n",
       "\n",
       "    .dataframe tbody tr th {\n",
       "        vertical-align: top;\n",
       "    }\n",
       "\n",
       "    .dataframe thead th {\n",
       "        text-align: right;\n",
       "    }\n",
       "</style>\n",
       "<table border=\"1\" class=\"dataframe\">\n",
       "  <thead>\n",
       "    <tr style=\"text-align: right;\">\n",
       "      <th></th>\n",
       "      <th>digit</th>\n",
       "      <th>counts</th>\n",
       "    </tr>\n",
       "  </thead>\n",
       "  <tbody>\n",
       "    <tr>\n",
       "      <th>1</th>\n",
       "      <td>1</td>\n",
       "      <td>2005</td>\n",
       "    </tr>\n",
       "    <tr>\n",
       "      <th>2</th>\n",
       "      <td>2</td>\n",
       "      <td>1155</td>\n",
       "    </tr>\n",
       "    <tr>\n",
       "      <th>3</th>\n",
       "      <td>3</td>\n",
       "      <td>763</td>\n",
       "    </tr>\n",
       "    <tr>\n",
       "      <th>4</th>\n",
       "      <td>4</td>\n",
       "      <td>616</td>\n",
       "    </tr>\n",
       "    <tr>\n",
       "      <th>5</th>\n",
       "      <td>5</td>\n",
       "      <td>478</td>\n",
       "    </tr>\n",
       "    <tr>\n",
       "      <th>6</th>\n",
       "      <td>6</td>\n",
       "      <td>473</td>\n",
       "    </tr>\n",
       "    <tr>\n",
       "      <th>7</th>\n",
       "      <td>7</td>\n",
       "      <td>415</td>\n",
       "    </tr>\n",
       "    <tr>\n",
       "      <th>8</th>\n",
       "      <td>8</td>\n",
       "      <td>309</td>\n",
       "    </tr>\n",
       "    <tr>\n",
       "      <th>9</th>\n",
       "      <td>9</td>\n",
       "      <td>288</td>\n",
       "    </tr>\n",
       "  </tbody>\n",
       "</table>\n",
       "</div>"
      ],
      "text/plain": [
       "   digit  counts\n",
       "1      1    2005\n",
       "2      2    1155\n",
       "3      3     763\n",
       "4      4     616\n",
       "5      5     478\n",
       "6      6     473\n",
       "7      7     415\n",
       "8      8     309\n",
       "9      9     288"
      ]
     },
     "execution_count": 55,
     "metadata": {},
     "output_type": "execute_result"
    }
   ],
   "source": [
    "nums = list(range(1, 10))\n",
    "ts_ents_count = list(timessquare.ent_dig.value_counts())\n",
    "timessquare = pd.DataFrame({'digit': nums, \n",
    "                              'counts': ts_ents_count}, index=nums)\n",
    "timessquare"
   ]
  },
  {
   "cell_type": "code",
   "execution_count": 56,
   "metadata": {
    "ExecuteTime": {
     "end_time": "2020-09-27T17:29:08.665137Z",
     "start_time": "2020-09-27T17:29:08.662055Z"
    }
   },
   "outputs": [
    {
     "data": {
      "text/plain": [
       "6502"
      ]
     },
     "execution_count": 56,
     "metadata": {},
     "output_type": "execute_result"
    }
   ],
   "source": [
    "ts_total_entries = timessquare.counts.sum()\n",
    "ts_total_entries"
   ]
  },
  {
   "cell_type": "code",
   "execution_count": 57,
   "metadata": {
    "ExecuteTime": {
     "end_time": "2020-09-27T17:29:08.672280Z",
     "start_time": "2020-09-27T17:29:08.666385Z"
    }
   },
   "outputs": [],
   "source": [
    "# Creating % Frequency Column\n",
    "timessquare['percent'] = timessquare['counts'].apply(lambda x: (x / ts_total_entries) * 100).round(decimals=1)\n",
    "\n",
    "# Adding Benford's Law %s, and some calculation columns to see the difference\n",
    "timessquare['benfords'] = benfords['percent']\n",
    "timessquare['diff_abs'] = (timessquare['percent'] - timessquare['benfords']).abs()\n",
    "timessquare['diff_perc'] = ((timessquare['diff_abs'] / timessquare['percent']) * 100)"
   ]
  },
  {
   "cell_type": "code",
   "execution_count": 58,
   "metadata": {
    "ExecuteTime": {
     "end_time": "2020-09-27T17:29:08.683787Z",
     "start_time": "2020-09-27T17:29:08.673998Z"
    }
   },
   "outputs": [
    {
     "data": {
      "text/html": [
       "<div>\n",
       "<style scoped>\n",
       "    .dataframe tbody tr th:only-of-type {\n",
       "        vertical-align: middle;\n",
       "    }\n",
       "\n",
       "    .dataframe tbody tr th {\n",
       "        vertical-align: top;\n",
       "    }\n",
       "\n",
       "    .dataframe thead th {\n",
       "        text-align: right;\n",
       "    }\n",
       "</style>\n",
       "<table border=\"1\" class=\"dataframe\">\n",
       "  <thead>\n",
       "    <tr style=\"text-align: right;\">\n",
       "      <th></th>\n",
       "      <th>digit</th>\n",
       "      <th>counts</th>\n",
       "      <th>percent</th>\n",
       "      <th>benfords</th>\n",
       "      <th>diff_abs</th>\n",
       "      <th>diff_perc</th>\n",
       "    </tr>\n",
       "  </thead>\n",
       "  <tbody>\n",
       "    <tr>\n",
       "      <th>1</th>\n",
       "      <td>1</td>\n",
       "      <td>2005</td>\n",
       "      <td>30.8</td>\n",
       "      <td>30.1</td>\n",
       "      <td>0.7</td>\n",
       "      <td>2.272727</td>\n",
       "    </tr>\n",
       "    <tr>\n",
       "      <th>2</th>\n",
       "      <td>2</td>\n",
       "      <td>1155</td>\n",
       "      <td>17.8</td>\n",
       "      <td>17.6</td>\n",
       "      <td>0.2</td>\n",
       "      <td>1.123596</td>\n",
       "    </tr>\n",
       "    <tr>\n",
       "      <th>3</th>\n",
       "      <td>3</td>\n",
       "      <td>763</td>\n",
       "      <td>11.7</td>\n",
       "      <td>12.5</td>\n",
       "      <td>0.8</td>\n",
       "      <td>6.837607</td>\n",
       "    </tr>\n",
       "    <tr>\n",
       "      <th>4</th>\n",
       "      <td>4</td>\n",
       "      <td>616</td>\n",
       "      <td>9.5</td>\n",
       "      <td>9.7</td>\n",
       "      <td>0.2</td>\n",
       "      <td>2.105263</td>\n",
       "    </tr>\n",
       "    <tr>\n",
       "      <th>5</th>\n",
       "      <td>5</td>\n",
       "      <td>478</td>\n",
       "      <td>7.4</td>\n",
       "      <td>7.9</td>\n",
       "      <td>0.5</td>\n",
       "      <td>6.756757</td>\n",
       "    </tr>\n",
       "    <tr>\n",
       "      <th>6</th>\n",
       "      <td>6</td>\n",
       "      <td>473</td>\n",
       "      <td>7.3</td>\n",
       "      <td>6.7</td>\n",
       "      <td>0.6</td>\n",
       "      <td>8.219178</td>\n",
       "    </tr>\n",
       "    <tr>\n",
       "      <th>7</th>\n",
       "      <td>7</td>\n",
       "      <td>415</td>\n",
       "      <td>6.4</td>\n",
       "      <td>5.8</td>\n",
       "      <td>0.6</td>\n",
       "      <td>9.375000</td>\n",
       "    </tr>\n",
       "    <tr>\n",
       "      <th>8</th>\n",
       "      <td>8</td>\n",
       "      <td>309</td>\n",
       "      <td>4.8</td>\n",
       "      <td>5.1</td>\n",
       "      <td>0.3</td>\n",
       "      <td>6.250000</td>\n",
       "    </tr>\n",
       "    <tr>\n",
       "      <th>9</th>\n",
       "      <td>9</td>\n",
       "      <td>288</td>\n",
       "      <td>4.4</td>\n",
       "      <td>4.6</td>\n",
       "      <td>0.2</td>\n",
       "      <td>4.545455</td>\n",
       "    </tr>\n",
       "  </tbody>\n",
       "</table>\n",
       "</div>"
      ],
      "text/plain": [
       "   digit  counts  percent  benfords  diff_abs  diff_perc\n",
       "1      1    2005     30.8      30.1       0.7   2.272727\n",
       "2      2    1155     17.8      17.6       0.2   1.123596\n",
       "3      3     763     11.7      12.5       0.8   6.837607\n",
       "4      4     616      9.5       9.7       0.2   2.105263\n",
       "5      5     478      7.4       7.9       0.5   6.756757\n",
       "6      6     473      7.3       6.7       0.6   8.219178\n",
       "7      7     415      6.4       5.8       0.6   9.375000\n",
       "8      8     309      4.8       5.1       0.3   6.250000\n",
       "9      9     288      4.4       4.6       0.2   4.545455"
      ]
     },
     "execution_count": 58,
     "metadata": {},
     "output_type": "execute_result"
    }
   ],
   "source": [
    "timessquare"
   ]
  },
  {
   "cell_type": "markdown",
   "metadata": {},
   "source": [
    "#### Plotting the Results"
   ]
  },
  {
   "cell_type": "code",
   "execution_count": 59,
   "metadata": {
    "ExecuteTime": {
     "end_time": "2020-09-27T17:29:09.013951Z",
     "start_time": "2020-09-27T17:29:08.685964Z"
    }
   },
   "outputs": [
    {
     "data": {
      "image/png": "[encoded data removed]",
      "text/plain": [
       "<Figure size 864x432 with 1 Axes>"
      ]
     },
     "metadata": {
      "needs_background": "light"
     },
     "output_type": "display_data"
    }
   ],
   "source": [
    "labels = list(range(1, 10))\n",
    "observed = timessquare['percent']\n",
    "benford_percents = benford_total_df['benfords']\n",
    "\n",
    "x = np.arange(len(labels))  # the label locations\n",
    "width = 0.35  # the width of the bars\n",
    "\n",
    "fig, ax = plt.subplots(figsize=(12, 6))\n",
    "rects1 = ax.bar(x - width/2, observed, width, label='Observed (%)', alpha=0.5)\n",
    "rects2 = ax.bar(x + width/2, benford_percents, width, label=\"Benford's Law (%)\", color='red', alpha=0.5)\n",
    "\n",
    "# Add some text for labels, title and custom x-axis tick labels, etc.\n",
    "ax.set_ylabel('Frequency (%)', fontsize=14)\n",
    "ax.set_xlabel('Leading Digit', fontsize=14)\n",
    "ax.set_title(\"Benford's Law: Times Square - 42nd St Station\", fontsize=18)\n",
    "ax.set_xticks(x)\n",
    "ax.set_xticklabels(labels)\n",
    "ax.set_ylim(0, 35)\n",
    "ax.legend(fontsize=12)\n",
    "\n",
    "\n",
    "def autolabel(rects):\n",
    "    \"\"\"Attach a text label above each bar in *rects*, displaying its height.\"\"\"\n",
    "    for rect in rects:\n",
    "        height = rect.get_height()\n",
    "        ax.annotate('{}'.format(height),\n",
    "                    xy=(rect.get_x() + rect.get_width() / 2, height),\n",
    "                    xytext=(0, 3),  # 3 points vertical offset\n",
    "                    textcoords=\"offset points\",\n",
    "                    ha='center', va='bottom')\n",
    "\n",
    "\n",
    "autolabel(rects1)\n",
    "autolabel(rects2)\n",
    "\n",
    "fig.tight_layout()\n",
    "\n",
    "#plt.savefig('timessquare.png')\n",
    "plt.show();"
   ]
  },
  {
   "cell_type": "markdown",
   "metadata": {},
   "source": [
    "Time Square fits the pattern - let's check out Prospect Av station."
   ]
  },
  {
   "cell_type": "markdown",
   "metadata": {},
   "source": [
    "### Prospect Av Station"
   ]
  },
  {
   "cell_type": "markdown",
   "metadata": {},
   "source": [
    "#### Setting up the Total DataFrame"
   ]
  },
  {
   "cell_type": "code",
   "execution_count": 60,
   "metadata": {
    "ExecuteTime": {
     "end_time": "2020-09-27T17:29:09.069523Z",
     "start_time": "2020-09-27T17:29:09.015862Z"
    }
   },
   "outputs": [
    {
     "data": {
      "text/html": [
       "<div>\n",
       "<style scoped>\n",
       "    .dataframe tbody tr th:only-of-type {\n",
       "        vertical-align: middle;\n",
       "    }\n",
       "\n",
       "    .dataframe tbody tr th {\n",
       "        vertical-align: top;\n",
       "    }\n",
       "\n",
       "    .dataframe thead th {\n",
       "        text-align: right;\n",
       "    }\n",
       "</style>\n",
       "<table border=\"1\" class=\"dataframe\">\n",
       "  <thead>\n",
       "    <tr style=\"text-align: right;\">\n",
       "      <th></th>\n",
       "      <th>station</th>\n",
       "      <th>ca</th>\n",
       "      <th>unit</th>\n",
       "      <th>scp</th>\n",
       "      <th>linename</th>\n",
       "      <th>division</th>\n",
       "      <th>date</th>\n",
       "      <th>time</th>\n",
       "      <th>timestamp</th>\n",
       "      <th>weekday</th>\n",
       "      <th>weekday_num</th>\n",
       "      <th>entries</th>\n",
       "      <th>exits</th>\n",
       "      <th>total</th>\n",
       "      <th>ent_dig</th>\n",
       "      <th>ex_dig</th>\n",
       "      <th>total_dig</th>\n",
       "    </tr>\n",
       "  </thead>\n",
       "  <tbody>\n",
       "    <tr>\n",
       "      <th>731932</th>\n",
       "      <td>PROSPECT AV</td>\n",
       "      <td>C014</td>\n",
       "      <td>R246</td>\n",
       "      <td>00-00-00</td>\n",
       "      <td>R</td>\n",
       "      <td>BMT</td>\n",
       "      <td>2020-08-29</td>\n",
       "      <td>04:00:00</td>\n",
       "      <td>2020-08-29 04:00:00</td>\n",
       "      <td>Saturday</td>\n",
       "      <td>5</td>\n",
       "      <td>1.0</td>\n",
       "      <td>4.0</td>\n",
       "      <td>5.0</td>\n",
       "      <td>1</td>\n",
       "      <td>4</td>\n",
       "      <td>5</td>\n",
       "    </tr>\n",
       "    <tr>\n",
       "      <th>731933</th>\n",
       "      <td>PROSPECT AV</td>\n",
       "      <td>C014</td>\n",
       "      <td>R246</td>\n",
       "      <td>00-00-00</td>\n",
       "      <td>R</td>\n",
       "      <td>BMT</td>\n",
       "      <td>2020-08-29</td>\n",
       "      <td>08:00:00</td>\n",
       "      <td>2020-08-29 08:00:00</td>\n",
       "      <td>Saturday</td>\n",
       "      <td>5</td>\n",
       "      <td>14.0</td>\n",
       "      <td>25.0</td>\n",
       "      <td>39.0</td>\n",
       "      <td>1</td>\n",
       "      <td>2</td>\n",
       "      <td>3</td>\n",
       "    </tr>\n",
       "    <tr>\n",
       "      <th>731934</th>\n",
       "      <td>PROSPECT AV</td>\n",
       "      <td>C014</td>\n",
       "      <td>R246</td>\n",
       "      <td>00-00-00</td>\n",
       "      <td>R</td>\n",
       "      <td>BMT</td>\n",
       "      <td>2020-08-29</td>\n",
       "      <td>12:00:00</td>\n",
       "      <td>2020-08-29 12:00:00</td>\n",
       "      <td>Saturday</td>\n",
       "      <td>5</td>\n",
       "      <td>45.0</td>\n",
       "      <td>48.0</td>\n",
       "      <td>93.0</td>\n",
       "      <td>4</td>\n",
       "      <td>4</td>\n",
       "      <td>9</td>\n",
       "    </tr>\n",
       "  </tbody>\n",
       "</table>\n",
       "</div>"
      ],
      "text/plain": [
       "            station    ca  unit       scp linename division       date  \\\n",
       "731932  PROSPECT AV  C014  R246  00-00-00        R      BMT 2020-08-29   \n",
       "731933  PROSPECT AV  C014  R246  00-00-00        R      BMT 2020-08-29   \n",
       "731934  PROSPECT AV  C014  R246  00-00-00        R      BMT 2020-08-29   \n",
       "\n",
       "            time           timestamp   weekday  weekday_num  entries  exits  \\\n",
       "731932  04:00:00 2020-08-29 04:00:00  Saturday            5      1.0    4.0   \n",
       "731933  08:00:00 2020-08-29 08:00:00  Saturday            5     14.0   25.0   \n",
       "731934  12:00:00 2020-08-29 12:00:00  Saturday            5     45.0   48.0   \n",
       "\n",
       "        total  ent_dig  ex_dig  total_dig  \n",
       "731932    5.0        1       4          5  \n",
       "731933   39.0        1       2          3  \n",
       "731934   93.0        4       4          9  "
      ]
     },
     "execution_count": 60,
     "metadata": {},
     "output_type": "execute_result"
    }
   ],
   "source": [
    "prospect = mta[(mta['ent_dig'] > 0) & \n",
    "                 (mta['station'] == 'PROSPECT AV')]\n",
    "prospect.head(3)"
   ]
  },
  {
   "cell_type": "code",
   "execution_count": 61,
   "metadata": {
    "ExecuteTime": {
     "end_time": "2020-09-27T17:29:09.080153Z",
     "start_time": "2020-09-27T17:29:09.071337Z"
    }
   },
   "outputs": [
    {
     "data": {
      "text/html": [
       "<div>\n",
       "<style scoped>\n",
       "    .dataframe tbody tr th:only-of-type {\n",
       "        vertical-align: middle;\n",
       "    }\n",
       "\n",
       "    .dataframe tbody tr th {\n",
       "        vertical-align: top;\n",
       "    }\n",
       "\n",
       "    .dataframe thead th {\n",
       "        text-align: right;\n",
       "    }\n",
       "</style>\n",
       "<table border=\"1\" class=\"dataframe\">\n",
       "  <thead>\n",
       "    <tr style=\"text-align: right;\">\n",
       "      <th></th>\n",
       "      <th>date</th>\n",
       "      <th>timestamp</th>\n",
       "      <th>weekday_num</th>\n",
       "      <th>ent_dig</th>\n",
       "    </tr>\n",
       "  </thead>\n",
       "  <tbody>\n",
       "    <tr>\n",
       "      <th>731932</th>\n",
       "      <td>2020-08-29</td>\n",
       "      <td>2020-08-29 04:00:00</td>\n",
       "      <td>5</td>\n",
       "      <td>1</td>\n",
       "    </tr>\n",
       "    <tr>\n",
       "      <th>731933</th>\n",
       "      <td>2020-08-29</td>\n",
       "      <td>2020-08-29 08:00:00</td>\n",
       "      <td>5</td>\n",
       "      <td>1</td>\n",
       "    </tr>\n",
       "    <tr>\n",
       "      <th>731934</th>\n",
       "      <td>2020-08-29</td>\n",
       "      <td>2020-08-29 12:00:00</td>\n",
       "      <td>5</td>\n",
       "      <td>4</td>\n",
       "    </tr>\n",
       "  </tbody>\n",
       "</table>\n",
       "</div>"
      ],
      "text/plain": [
       "             date           timestamp  weekday_num  ent_dig\n",
       "731932 2020-08-29 2020-08-29 04:00:00            5        1\n",
       "731933 2020-08-29 2020-08-29 08:00:00            5        1\n",
       "731934 2020-08-29 2020-08-29 12:00:00            5        4"
      ]
     },
     "execution_count": 61,
     "metadata": {},
     "output_type": "execute_result"
    }
   ],
   "source": [
    "prospect = prospect[['date', 'timestamp', 'weekday_num', 'ent_dig']]\n",
    "prospect.head(3)"
   ]
  },
  {
   "cell_type": "code",
   "execution_count": 62,
   "metadata": {
    "ExecuteTime": {
     "end_time": "2020-09-27T17:29:09.090076Z",
     "start_time": "2020-09-27T17:29:09.081766Z"
    }
   },
   "outputs": [
    {
     "data": {
      "text/html": [
       "<div>\n",
       "<style scoped>\n",
       "    .dataframe tbody tr th:only-of-type {\n",
       "        vertical-align: middle;\n",
       "    }\n",
       "\n",
       "    .dataframe tbody tr th {\n",
       "        vertical-align: top;\n",
       "    }\n",
       "\n",
       "    .dataframe thead th {\n",
       "        text-align: right;\n",
       "    }\n",
       "</style>\n",
       "<table border=\"1\" class=\"dataframe\">\n",
       "  <thead>\n",
       "    <tr style=\"text-align: right;\">\n",
       "      <th></th>\n",
       "      <th>digit</th>\n",
       "      <th>counts</th>\n",
       "    </tr>\n",
       "  </thead>\n",
       "  <tbody>\n",
       "    <tr>\n",
       "      <th>1</th>\n",
       "      <td>1</td>\n",
       "      <td>529</td>\n",
       "    </tr>\n",
       "    <tr>\n",
       "      <th>2</th>\n",
       "      <td>2</td>\n",
       "      <td>318</td>\n",
       "    </tr>\n",
       "    <tr>\n",
       "      <th>3</th>\n",
       "      <td>3</td>\n",
       "      <td>216</td>\n",
       "    </tr>\n",
       "    <tr>\n",
       "      <th>4</th>\n",
       "      <td>4</td>\n",
       "      <td>177</td>\n",
       "    </tr>\n",
       "    <tr>\n",
       "      <th>5</th>\n",
       "      <td>5</td>\n",
       "      <td>135</td>\n",
       "    </tr>\n",
       "    <tr>\n",
       "      <th>6</th>\n",
       "      <td>6</td>\n",
       "      <td>135</td>\n",
       "    </tr>\n",
       "    <tr>\n",
       "      <th>7</th>\n",
       "      <td>7</td>\n",
       "      <td>112</td>\n",
       "    </tr>\n",
       "    <tr>\n",
       "      <th>8</th>\n",
       "      <td>8</td>\n",
       "      <td>91</td>\n",
       "    </tr>\n",
       "    <tr>\n",
       "      <th>9</th>\n",
       "      <td>9</td>\n",
       "      <td>85</td>\n",
       "    </tr>\n",
       "  </tbody>\n",
       "</table>\n",
       "</div>"
      ],
      "text/plain": [
       "   digit  counts\n",
       "1      1     529\n",
       "2      2     318\n",
       "3      3     216\n",
       "4      4     177\n",
       "5      5     135\n",
       "6      6     135\n",
       "7      7     112\n",
       "8      8      91\n",
       "9      9      85"
      ]
     },
     "execution_count": 62,
     "metadata": {},
     "output_type": "execute_result"
    }
   ],
   "source": [
    "nums = list(range(1, 10))\n",
    "prospect_ents_count = list(prospect.ent_dig.value_counts())\n",
    "prospect = pd.DataFrame({'digit': nums, \n",
    "                              'counts': prospect_ents_count}, index=nums)\n",
    "prospect"
   ]
  },
  {
   "cell_type": "code",
   "execution_count": 63,
   "metadata": {
    "ExecuteTime": {
     "end_time": "2020-09-27T17:29:09.094518Z",
     "start_time": "2020-09-27T17:29:09.091406Z"
    }
   },
   "outputs": [
    {
     "data": {
      "text/plain": [
       "1798"
      ]
     },
     "execution_count": 63,
     "metadata": {},
     "output_type": "execute_result"
    }
   ],
   "source": [
    "prospect_total_entries = prospect.counts.sum()\n",
    "prospect_total_entries"
   ]
  },
  {
   "cell_type": "code",
   "execution_count": 64,
   "metadata": {
    "ExecuteTime": {
     "end_time": "2020-09-27T17:29:09.101923Z",
     "start_time": "2020-09-27T17:29:09.096098Z"
    }
   },
   "outputs": [],
   "source": [
    "# Creating % Frequency Column\n",
    "prospect['percent'] = prospect['counts'].apply(lambda x: (x / prospect_total_entries) * 100).round(decimals=1)\n",
    "\n",
    "# Adding Benford's Law %s, and some calculation columns to see the difference\n",
    "prospect['benfords'] = benfords['percent']\n",
    "prospect['diff_abs'] = (prospect['percent'] - prospect['benfords']).abs()\n",
    "prospect['diff_perc'] = ((prospect['diff_abs'] / prospect['percent']) * 100)"
   ]
  },
  {
   "cell_type": "code",
   "execution_count": 65,
   "metadata": {
    "ExecuteTime": {
     "end_time": "2020-09-27T17:29:09.112079Z",
     "start_time": "2020-09-27T17:29:09.103331Z"
    }
   },
   "outputs": [
    {
     "data": {
      "text/html": [
       "<div>\n",
       "<style scoped>\n",
       "    .dataframe tbody tr th:only-of-type {\n",
       "        vertical-align: middle;\n",
       "    }\n",
       "\n",
       "    .dataframe tbody tr th {\n",
       "        vertical-align: top;\n",
       "    }\n",
       "\n",
       "    .dataframe thead th {\n",
       "        text-align: right;\n",
       "    }\n",
       "</style>\n",
       "<table border=\"1\" class=\"dataframe\">\n",
       "  <thead>\n",
       "    <tr style=\"text-align: right;\">\n",
       "      <th></th>\n",
       "      <th>digit</th>\n",
       "      <th>counts</th>\n",
       "      <th>percent</th>\n",
       "      <th>benfords</th>\n",
       "      <th>diff_abs</th>\n",
       "      <th>diff_perc</th>\n",
       "    </tr>\n",
       "  </thead>\n",
       "  <tbody>\n",
       "    <tr>\n",
       "      <th>1</th>\n",
       "      <td>1</td>\n",
       "      <td>529</td>\n",
       "      <td>29.4</td>\n",
       "      <td>30.1</td>\n",
       "      <td>0.7</td>\n",
       "      <td>2.380952</td>\n",
       "    </tr>\n",
       "    <tr>\n",
       "      <th>2</th>\n",
       "      <td>2</td>\n",
       "      <td>318</td>\n",
       "      <td>17.7</td>\n",
       "      <td>17.6</td>\n",
       "      <td>0.1</td>\n",
       "      <td>0.564972</td>\n",
       "    </tr>\n",
       "    <tr>\n",
       "      <th>3</th>\n",
       "      <td>3</td>\n",
       "      <td>216</td>\n",
       "      <td>12.0</td>\n",
       "      <td>12.5</td>\n",
       "      <td>0.5</td>\n",
       "      <td>4.166667</td>\n",
       "    </tr>\n",
       "    <tr>\n",
       "      <th>4</th>\n",
       "      <td>4</td>\n",
       "      <td>177</td>\n",
       "      <td>9.8</td>\n",
       "      <td>9.7</td>\n",
       "      <td>0.1</td>\n",
       "      <td>1.020408</td>\n",
       "    </tr>\n",
       "    <tr>\n",
       "      <th>5</th>\n",
       "      <td>5</td>\n",
       "      <td>135</td>\n",
       "      <td>7.5</td>\n",
       "      <td>7.9</td>\n",
       "      <td>0.4</td>\n",
       "      <td>5.333333</td>\n",
       "    </tr>\n",
       "    <tr>\n",
       "      <th>6</th>\n",
       "      <td>6</td>\n",
       "      <td>135</td>\n",
       "      <td>7.5</td>\n",
       "      <td>6.7</td>\n",
       "      <td>0.8</td>\n",
       "      <td>10.666667</td>\n",
       "    </tr>\n",
       "    <tr>\n",
       "      <th>7</th>\n",
       "      <td>7</td>\n",
       "      <td>112</td>\n",
       "      <td>6.2</td>\n",
       "      <td>5.8</td>\n",
       "      <td>0.4</td>\n",
       "      <td>6.451613</td>\n",
       "    </tr>\n",
       "    <tr>\n",
       "      <th>8</th>\n",
       "      <td>8</td>\n",
       "      <td>91</td>\n",
       "      <td>5.1</td>\n",
       "      <td>5.1</td>\n",
       "      <td>0.0</td>\n",
       "      <td>0.000000</td>\n",
       "    </tr>\n",
       "    <tr>\n",
       "      <th>9</th>\n",
       "      <td>9</td>\n",
       "      <td>85</td>\n",
       "      <td>4.7</td>\n",
       "      <td>4.6</td>\n",
       "      <td>0.1</td>\n",
       "      <td>2.127660</td>\n",
       "    </tr>\n",
       "  </tbody>\n",
       "</table>\n",
       "</div>"
      ],
      "text/plain": [
       "   digit  counts  percent  benfords  diff_abs  diff_perc\n",
       "1      1     529     29.4      30.1       0.7   2.380952\n",
       "2      2     318     17.7      17.6       0.1   0.564972\n",
       "3      3     216     12.0      12.5       0.5   4.166667\n",
       "4      4     177      9.8       9.7       0.1   1.020408\n",
       "5      5     135      7.5       7.9       0.4   5.333333\n",
       "6      6     135      7.5       6.7       0.8  10.666667\n",
       "7      7     112      6.2       5.8       0.4   6.451613\n",
       "8      8      91      5.1       5.1       0.0   0.000000\n",
       "9      9      85      4.7       4.6       0.1   2.127660"
      ]
     },
     "execution_count": 65,
     "metadata": {},
     "output_type": "execute_result"
    }
   ],
   "source": [
    "prospect"
   ]
  },
  {
   "cell_type": "markdown",
   "metadata": {},
   "source": [
    "#### Plotting the Results"
   ]
  },
  {
   "cell_type": "code",
   "execution_count": 66,
   "metadata": {
    "ExecuteTime": {
     "end_time": "2020-09-27T17:29:09.441557Z",
     "start_time": "2020-09-27T17:29:09.113614Z"
    }
   },
   "outputs": [
    {
     "data": {
      "image/png": "[encoded data removed]",
      "text/plain": [
       "<Figure size 864x432 with 1 Axes>"
      ]
     },
     "metadata": {
      "needs_background": "light"
     },
     "output_type": "display_data"
    }
   ],
   "source": [
    "labels = list(range(1, 10))\n",
    "observed = prospect['percent']\n",
    "benford_percents = benford_total_df['benfords']\n",
    "\n",
    "x = np.arange(len(labels))  # the label locations\n",
    "width = 0.35  # the width of the bars\n",
    "\n",
    "fig, ax = plt.subplots(figsize=(12, 6))\n",
    "rects1 = ax.bar(x - width/2, observed, width, label='Observed (%)', alpha=0.5)\n",
    "rects2 = ax.bar(x + width/2, benford_percents, width, label=\"Benford's Law (%)\", color='red', alpha=0.5)\n",
    "\n",
    "# Add some text for labels, title and custom x-axis tick labels, etc.\n",
    "ax.set_ylabel('Frequency (%)', fontsize=14)\n",
    "ax.set_xlabel('Leading Digit', fontsize=14)\n",
    "ax.set_title(\"Benford's Law: Prospect Av Station\", fontsize=18)\n",
    "ax.set_xticks(x)\n",
    "ax.set_xticklabels(labels)\n",
    "ax.set_ylim(0, 35)\n",
    "ax.legend(fontsize=12)\n",
    "\n",
    "\n",
    "def autolabel(rects):\n",
    "    \"\"\"Attach a text label above each bar in *rects*, displaying its height.\"\"\"\n",
    "    for rect in rects:\n",
    "        height = rect.get_height()\n",
    "        ax.annotate('{}'.format(height),\n",
    "                    xy=(rect.get_x() + rect.get_width() / 2, height),\n",
    "                    xytext=(0, 3),  # 3 points vertical offset\n",
    "                    textcoords=\"offset points\",\n",
    "                    ha='center', va='bottom')\n",
    "\n",
    "\n",
    "autolabel(rects1)\n",
    "autolabel(rects2)\n",
    "\n",
    "fig.tight_layout()\n",
    "\n",
    "#plt.savefig('prospectav.png')\n",
    "plt.show();"
   ]
  },
  {
   "cell_type": "markdown",
   "metadata": {},
   "source": [
    "Prospect Av station is quite *Benfordy* too.\n",
    "\n",
    "Let's take a quick side by side look."
   ]
  },
  {
   "cell_type": "markdown",
   "metadata": {},
   "source": [
    "### Station Comparison"
   ]
  },
  {
   "cell_type": "markdown",
   "metadata": {},
   "source": [
    "#### Table Comparison"
   ]
  },
  {
   "cell_type": "code",
   "execution_count": 67,
   "metadata": {
    "ExecuteTime": {
     "end_time": "2020-09-27T17:29:09.446198Z",
     "start_time": "2020-09-27T17:29:09.443522Z"
    }
   },
   "outputs": [],
   "source": [
    "benford_compare = benfords\n",
    "\n",
    "benford_compare.columns = ['digit', 'benfords']"
   ]
  },
  {
   "cell_type": "code",
   "execution_count": 68,
   "metadata": {
    "ExecuteTime": {
     "end_time": "2020-09-27T17:29:09.455485Z",
     "start_time": "2020-09-27T17:29:09.447981Z"
    }
   },
   "outputs": [
    {
     "data": {
      "text/html": [
       "<div>\n",
       "<style scoped>\n",
       "    .dataframe tbody tr th:only-of-type {\n",
       "        vertical-align: middle;\n",
       "    }\n",
       "\n",
       "    .dataframe tbody tr th {\n",
       "        vertical-align: top;\n",
       "    }\n",
       "\n",
       "    .dataframe thead th {\n",
       "        text-align: right;\n",
       "    }\n",
       "</style>\n",
       "<table border=\"1\" class=\"dataframe\">\n",
       "  <thead>\n",
       "    <tr style=\"text-align: right;\">\n",
       "      <th></th>\n",
       "      <th>digit</th>\n",
       "      <th>benfords</th>\n",
       "      <th>ts_perc</th>\n",
       "      <th>prosp_perc</th>\n",
       "    </tr>\n",
       "  </thead>\n",
       "  <tbody>\n",
       "    <tr>\n",
       "      <th>1</th>\n",
       "      <td>1</td>\n",
       "      <td>30.1</td>\n",
       "      <td>30.8</td>\n",
       "      <td>29.4</td>\n",
       "    </tr>\n",
       "    <tr>\n",
       "      <th>2</th>\n",
       "      <td>2</td>\n",
       "      <td>17.6</td>\n",
       "      <td>17.8</td>\n",
       "      <td>17.7</td>\n",
       "    </tr>\n",
       "    <tr>\n",
       "      <th>3</th>\n",
       "      <td>3</td>\n",
       "      <td>12.5</td>\n",
       "      <td>11.7</td>\n",
       "      <td>12.0</td>\n",
       "    </tr>\n",
       "    <tr>\n",
       "      <th>4</th>\n",
       "      <td>4</td>\n",
       "      <td>9.7</td>\n",
       "      <td>9.5</td>\n",
       "      <td>9.8</td>\n",
       "    </tr>\n",
       "    <tr>\n",
       "      <th>5</th>\n",
       "      <td>5</td>\n",
       "      <td>7.9</td>\n",
       "      <td>7.4</td>\n",
       "      <td>7.5</td>\n",
       "    </tr>\n",
       "    <tr>\n",
       "      <th>6</th>\n",
       "      <td>6</td>\n",
       "      <td>6.7</td>\n",
       "      <td>7.3</td>\n",
       "      <td>7.5</td>\n",
       "    </tr>\n",
       "    <tr>\n",
       "      <th>7</th>\n",
       "      <td>7</td>\n",
       "      <td>5.8</td>\n",
       "      <td>6.4</td>\n",
       "      <td>6.2</td>\n",
       "    </tr>\n",
       "    <tr>\n",
       "      <th>8</th>\n",
       "      <td>8</td>\n",
       "      <td>5.1</td>\n",
       "      <td>4.8</td>\n",
       "      <td>5.1</td>\n",
       "    </tr>\n",
       "    <tr>\n",
       "      <th>9</th>\n",
       "      <td>9</td>\n",
       "      <td>4.6</td>\n",
       "      <td>4.4</td>\n",
       "      <td>4.7</td>\n",
       "    </tr>\n",
       "  </tbody>\n",
       "</table>\n",
       "</div>"
      ],
      "text/plain": [
       "   digit  benfords  ts_perc  prosp_perc\n",
       "1      1      30.1     30.8        29.4\n",
       "2      2      17.6     17.8        17.7\n",
       "3      3      12.5     11.7        12.0\n",
       "4      4       9.7      9.5         9.8\n",
       "5      5       7.9      7.4         7.5\n",
       "6      6       6.7      7.3         7.5\n",
       "7      7       5.8      6.4         6.2\n",
       "8      8       5.1      4.8         5.1\n",
       "9      9       4.6      4.4         4.7"
      ]
     },
     "execution_count": 68,
     "metadata": {},
     "output_type": "execute_result"
    }
   ],
   "source": [
    "benford_compare['ts_perc'] = timessquare['percent']\n",
    "benford_compare['prosp_perc'] = prospect['percent']\n",
    "\n",
    "benford_compare"
   ]
  },
  {
   "cell_type": "markdown",
   "metadata": {},
   "source": [
    "#### Side by Side Plots"
   ]
  },
  {
   "cell_type": "code",
   "execution_count": 69,
   "metadata": {
    "ExecuteTime": {
     "end_time": "2020-09-27T17:29:09.857173Z",
     "start_time": "2020-09-27T17:29:09.456808Z"
    }
   },
   "outputs": [
    {
     "data": {
      "image/png": "[encoded data removed]",
      "text/plain": [
       "<Figure size 864x432 with 1 Axes>"
      ]
     },
     "metadata": {
      "needs_background": "light"
     },
     "output_type": "display_data"
    }
   ],
   "source": [
    "labels = list(range(1, 10))\n",
    "prospect_percent = prospect['percent']\n",
    "timessquare_percent = timessquare['percent']\n",
    "benford_percents = benford_total_df['benfords']\n",
    "\n",
    "x = np.arange(len(labels))  # the label locations\n",
    "width = 0.45  # the width of the bars\n",
    "\n",
    "fig, ax = plt.subplots(figsize=(12, 6))\n",
    "\n",
    "rects1 = ax.bar(x - width/1.5, benford_percents, width/1.5, label=\"Benford's Law (%)\", color='red', alpha=0.5)\n",
    "rects2 = ax.bar(x, timessquare_percent, width/1.5, label='Tm Sq - 42nd (%)', color='navy', alpha=0.5)\n",
    "rects3 = ax.bar(x + width/1.5, prospect_percent, width/1.5, label='Prospect Av (%)', color='cornflowerblue', alpha=0.5)\n",
    "\n",
    "\n",
    "# Add some text for labels, title and custom x-axis tick labels, etc.\n",
    "ax.set_ylabel('Frequency (%)', fontsize=14)\n",
    "ax.set_xlabel('Leading Digit', fontsize=14)\n",
    "ax.set_title(\"Benford's Law: Tm Sq - 42nd & Prospect Av\", fontsize=18)\n",
    "ax.set_xticks(x)\n",
    "ax.set_xticklabels(labels)\n",
    "ax.set_ylim(0, 35)\n",
    "ax.legend(fontsize=12)\n",
    "\n",
    "\n",
    "def autolabel(rects):\n",
    "    \"\"\"Attach a text label above each bar in *rects*, displaying its height.\"\"\"\n",
    "    for rect in rects:\n",
    "        height = rect.get_height()\n",
    "        ax.annotate('{}'.format(height),\n",
    "                    xy=(rect.get_x() + rect.get_width() / 2, height),\n",
    "                    xytext=(0, 3),  # 3 points vertical offset\n",
    "                    textcoords=\"offset points\",\n",
    "                    ha='center', va='bottom')\n",
    "\n",
    "\n",
    "autolabel(rects1)\n",
    "autolabel(rects2)\n",
    "autolabel(rects3)\n",
    "\n",
    "fig.tight_layout()\n",
    "\n",
    "#plt.savefig('tmsq_prospect.png')\n",
    "plt.show();"
   ]
  },
  {
   "cell_type": "markdown",
   "metadata": {},
   "source": [
    "These two stations line up nicely. There are a few instances where Times Square fits better, and others where Prospect Av does. I think using eye-ball statistics we can call it a wash."
   ]
  },
  {
   "cell_type": "markdown",
   "metadata": {},
   "source": [
    "## Summary"
   ]
  },
  {
   "cell_type": "markdown",
   "metadata": {},
   "source": [
    "### Observations"
   ]
  },
  {
   "cell_type": "markdown",
   "metadata": {},
   "source": [
    "Every view above seems to fit Benford's Law and this raises a beautiful idea that could be better supported with further analysis: the entire MTA subway system shares the same properties as Fibonacci numbers, stock market values, income tax data, and other natural sciences data. \n",
    "\n",
    "It makes me think of the NYC subway system as this living organism that obeys certain natural laws just like any other. Our humanness is reflected in the data."
   ]
  },
  {
   "cell_type": "markdown",
   "metadata": {},
   "source": [
    "### Suggestions for Further Analysis"
   ]
  },
  {
   "cell_type": "markdown",
   "metadata": {},
   "source": [
    "This is a fun first start! There is plenty of further analysis to be done. \n",
    "\n",
    "Here are some suggestions:\n",
    "\n",
    "* Compare all stations for Benford-ness\n",
    "    * Compare variance from Benford's Law\n",
    "    * Rank stations by best fit to Benford's\n",
    "* Sample other time periods\n",
    "    * Smaller sample: 1 week\n",
    "    * Large sample: + 4 weeks\n",
    "* Test individual turnstiles for Benford-ness    \n",
    "    "
   ]
  }
 ],
 "metadata": {
  "kernelspec": {
   "display_name": "Python [conda env:metis] *",
   "language": "python",
   "name": "conda-env-metis-py"
  },
  "language_info": {
   "codemirror_mode": {
    "name": "ipython",
    "version": 3
   },
   "file_extension": ".py",
   "mimetype": "text/x-python",
   "name": "python",
   "nbconvert_exporter": "python",
   "pygments_lexer": "ipython3",
   "version": "3.8.5"
  },
  "toc": {
   "base_numbering": 1,
   "nav_menu": {},
   "number_sections": true,
   "sideBar": true,
   "skip_h1_title": false,
   "title_cell": "Table of Contents",
   "title_sidebar": "Contents",
   "toc_cell": false,
   "toc_position": {
    "height": "calc(100% - 180px)",
    "left": "10px",
    "top": "150px",
    "width": "313.594px"
   },
   "toc_section_display": true,
   "toc_window_display": true
  }
 },
 "nbformat": 4,
 "nbformat_minor": 4
}
